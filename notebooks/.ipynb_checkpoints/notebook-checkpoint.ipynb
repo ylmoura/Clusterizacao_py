{
 "cells": [
  {
   "cell_type": "markdown",
   "id": "57b749ca",
   "metadata": {},
   "source": [
    "# 0.0 Imports"
   ]
  },
  {
   "cell_type": "code",
   "execution_count": 55,
   "id": "ddc7a699",
   "metadata": {
    "ExecuteTime": {
     "end_time": "2022-11-26T00:06:46.062684Z",
     "start_time": "2022-11-26T00:06:45.388065Z"
    }
   },
   "outputs": [],
   "source": [
    "import numpy as np\n",
    "import pandas as pd\n",
    "import seaborn as sns\n",
    "\n",
    "from matplotlib import pyplot as plt\n",
    "from IPython.display import HTML\n",
    "\n",
    "#from yellowbrick.cluster import KElbowVisualizer  ## pip install yellowbrick\n",
    "\n",
    "\n",
    "from sklearn import cluster as c"
   ]
  },
  {
   "cell_type": "markdown",
   "id": "96f851a5",
   "metadata": {
    "ExecuteTime": {
     "end_time": "2022-11-14T00:06:56.366533Z",
     "start_time": "2022-11-14T00:06:56.357530Z"
    }
   },
   "source": [
    "## 0.1. Helper Functions"
   ]
  },
  {
   "cell_type": "code",
   "execution_count": 29,
   "id": "e6c3bffd",
   "metadata": {
    "ExecuteTime": {
     "end_time": "2022-11-25T23:59:12.026504Z",
     "start_time": "2022-11-25T23:59:11.984503Z"
    }
   },
   "outputs": [
    {
     "name": "stdout",
     "output_type": "stream",
     "text": [
      "Populating the interactive namespace from numpy and matplotlib\n"
     ]
    },
    {
     "data": {
      "text/html": [
       "<style>.container { width:100% !important; }</style>"
      ],
      "text/plain": [
       "<IPython.core.display.HTML object>"
      ]
     },
     "metadata": {},
     "output_type": "display_data"
    }
   ],
   "source": [
    "def jupyter_settings():\n",
    "    %matplotlib inline\n",
    "    %pylab inline\n",
    "    \n",
    "    plt.style.use( 'ggplot')\n",
    "    plt.rcParams['figure.figsize'] = [24, 9]\n",
    "    plt.rcParams['font.size'] = 24\n",
    "    \n",
    "    display( HTML( '<style>.container { width:100% !important; }</style>') )\n",
    "    pd.options.display.max_columns = None\n",
    "    pd.options.display.max_rows = None\n",
    "    pd.set_option( 'display.expand_frame_repr', False )\n",
    "    \n",
    "    sns.set()\n",
    "    \n",
    "jupyter_settings()"
   ]
  },
  {
   "cell_type": "markdown",
   "id": "8608bda2",
   "metadata": {},
   "source": [
    "## 0.2 Load dataset"
   ]
  },
  {
   "cell_type": "code",
   "execution_count": 30,
   "id": "136f9751",
   "metadata": {
    "ExecuteTime": {
     "end_time": "2022-11-25T23:59:13.396766Z",
     "start_time": "2022-11-25T23:59:12.425418Z"
    }
   },
   "outputs": [
    {
     "data": {
      "text/html": [
       "<div>\n",
       "<style scoped>\n",
       "    .dataframe tbody tr th:only-of-type {\n",
       "        vertical-align: middle;\n",
       "    }\n",
       "\n",
       "    .dataframe tbody tr th {\n",
       "        vertical-align: top;\n",
       "    }\n",
       "\n",
       "    .dataframe thead th {\n",
       "        text-align: right;\n",
       "    }\n",
       "</style>\n",
       "<table border=\"1\" class=\"dataframe\">\n",
       "  <thead>\n",
       "    <tr style=\"text-align: right;\">\n",
       "      <th></th>\n",
       "      <th>InvoiceNo</th>\n",
       "      <th>StockCode</th>\n",
       "      <th>Description</th>\n",
       "      <th>Quantity</th>\n",
       "      <th>InvoiceDate</th>\n",
       "      <th>UnitPrice</th>\n",
       "      <th>CustomerID</th>\n",
       "      <th>Country</th>\n",
       "    </tr>\n",
       "  </thead>\n",
       "  <tbody>\n",
       "    <tr>\n",
       "      <th>0</th>\n",
       "      <td>536365</td>\n",
       "      <td>85123A</td>\n",
       "      <td>WHITE HANGING HEART T-LIGHT HOLDER</td>\n",
       "      <td>6</td>\n",
       "      <td>29-Nov-16</td>\n",
       "      <td>2.55</td>\n",
       "      <td>17850.0</td>\n",
       "      <td>United Kingdom</td>\n",
       "    </tr>\n",
       "    <tr>\n",
       "      <th>1</th>\n",
       "      <td>536365</td>\n",
       "      <td>71053</td>\n",
       "      <td>WHITE METAL LANTERN</td>\n",
       "      <td>6</td>\n",
       "      <td>29-Nov-16</td>\n",
       "      <td>3.39</td>\n",
       "      <td>17850.0</td>\n",
       "      <td>United Kingdom</td>\n",
       "    </tr>\n",
       "    <tr>\n",
       "      <th>2</th>\n",
       "      <td>536365</td>\n",
       "      <td>84406B</td>\n",
       "      <td>CREAM CUPID HEARTS COAT HANGER</td>\n",
       "      <td>8</td>\n",
       "      <td>29-Nov-16</td>\n",
       "      <td>2.75</td>\n",
       "      <td>17850.0</td>\n",
       "      <td>United Kingdom</td>\n",
       "    </tr>\n",
       "    <tr>\n",
       "      <th>3</th>\n",
       "      <td>536365</td>\n",
       "      <td>84029G</td>\n",
       "      <td>KNITTED UNION FLAG HOT WATER BOTTLE</td>\n",
       "      <td>6</td>\n",
       "      <td>29-Nov-16</td>\n",
       "      <td>3.39</td>\n",
       "      <td>17850.0</td>\n",
       "      <td>United Kingdom</td>\n",
       "    </tr>\n",
       "    <tr>\n",
       "      <th>4</th>\n",
       "      <td>536365</td>\n",
       "      <td>84029E</td>\n",
       "      <td>RED WOOLLY HOTTIE WHITE HEART.</td>\n",
       "      <td>6</td>\n",
       "      <td>29-Nov-16</td>\n",
       "      <td>3.39</td>\n",
       "      <td>17850.0</td>\n",
       "      <td>United Kingdom</td>\n",
       "    </tr>\n",
       "  </tbody>\n",
       "</table>\n",
       "</div>"
      ],
      "text/plain": [
       "  InvoiceNo StockCode                          Description  Quantity InvoiceDate  UnitPrice  CustomerID         Country\n",
       "0    536365    85123A   WHITE HANGING HEART T-LIGHT HOLDER         6   29-Nov-16       2.55     17850.0  United Kingdom\n",
       "1    536365     71053                  WHITE METAL LANTERN         6   29-Nov-16       3.39     17850.0  United Kingdom\n",
       "2    536365    84406B       CREAM CUPID HEARTS COAT HANGER         8   29-Nov-16       2.75     17850.0  United Kingdom\n",
       "3    536365    84029G  KNITTED UNION FLAG HOT WATER BOTTLE         6   29-Nov-16       3.39     17850.0  United Kingdom\n",
       "4    536365    84029E       RED WOOLLY HOTTIE WHITE HEART.         6   29-Nov-16       3.39     17850.0  United Kingdom"
      ]
     },
     "execution_count": 30,
     "metadata": {},
     "output_type": "execute_result"
    }
   ],
   "source": [
    "# load \n",
    "\n",
    "df_raw = pd.read_csv('../data/raw/Ecommerce.csv', encoding='unicode_escape', low_memory= False)\n",
    "\n",
    "df_raw = df_raw.drop( columns= ['Unnamed: 8'], axis = 1)\n",
    "df_raw.head()"
   ]
  },
  {
   "cell_type": "markdown",
   "id": "2a480260",
   "metadata": {
    "ExecuteTime": {
     "end_time": "2022-11-13T23:58:13.102882Z",
     "start_time": "2022-11-13T23:58:13.097264Z"
    }
   },
   "source": [
    "# <font color='red'> 1.0. Descrição dos dados </font>"
   ]
  },
  {
   "cell_type": "code",
   "execution_count": 31,
   "id": "6a13d07c",
   "metadata": {
    "ExecuteTime": {
     "end_time": "2022-11-25T23:59:13.427764Z",
     "start_time": "2022-11-25T23:59:13.399771Z"
    }
   },
   "outputs": [],
   "source": [
    "df1 = df_raw.copy()"
   ]
  },
  {
   "cell_type": "markdown",
   "id": "b0a838df",
   "metadata": {},
   "source": [
    "## 1.1. Rename columns "
   ]
  },
  {
   "cell_type": "code",
   "execution_count": 32,
   "id": "154263b0",
   "metadata": {
    "ExecuteTime": {
     "end_time": "2022-11-25T23:59:13.707476Z",
     "start_time": "2022-11-25T23:59:13.698467Z"
    }
   },
   "outputs": [
    {
     "data": {
      "text/plain": [
       "Index(['InvoiceNo', 'StockCode', 'Description', 'Quantity', 'InvoiceDate',\n",
       "       'UnitPrice', 'CustomerID', 'Country'],\n",
       "      dtype='object')"
      ]
     },
     "execution_count": 32,
     "metadata": {},
     "output_type": "execute_result"
    }
   ],
   "source": [
    "df1.columns"
   ]
  },
  {
   "cell_type": "code",
   "execution_count": 33,
   "id": "09c2f55c",
   "metadata": {
    "ExecuteTime": {
     "end_time": "2022-11-25T23:59:13.956536Z",
     "start_time": "2022-11-25T23:59:13.947539Z"
    }
   },
   "outputs": [],
   "source": [
    "cols_new = ['invoice_no', 'stock_code', 'description','quantity', 'invoice_date', 'unit_price', 'customer_id', 'country']\n",
    "df1.columns = cols_new"
   ]
  },
  {
   "cell_type": "markdown",
   "id": "7979ee08",
   "metadata": {
    "ExecuteTime": {
     "end_time": "2022-11-14T00:39:53.002339Z",
     "start_time": "2022-11-14T00:39:52.996327Z"
    }
   },
   "source": [
    "## 1.2. Data dimensions "
   ]
  },
  {
   "cell_type": "code",
   "execution_count": 34,
   "id": "6203cc62",
   "metadata": {
    "ExecuteTime": {
     "end_time": "2022-11-25T23:59:14.392564Z",
     "start_time": "2022-11-25T23:59:14.379567Z"
    }
   },
   "outputs": [
    {
     "name": "stdout",
     "output_type": "stream",
     "text": [
      "Number of rows: 541909\n",
      "Number of columns: 8\n"
     ]
    }
   ],
   "source": [
    "print( 'Number of rows: {}'.format (df1.shape[0]))\n",
    "print( 'Number of columns: {}'.format (df1.shape[1]))"
   ]
  },
  {
   "cell_type": "markdown",
   "id": "d7d8d3b5",
   "metadata": {},
   "source": [
    "## 1.3. Data types"
   ]
  },
  {
   "cell_type": "code",
   "execution_count": 35,
   "id": "1251592b",
   "metadata": {
    "ExecuteTime": {
     "end_time": "2022-11-25T23:59:14.844746Z",
     "start_time": "2022-11-25T23:59:14.835304Z"
    }
   },
   "outputs": [
    {
     "data": {
      "text/plain": [
       "invoice_no       object\n",
       "stock_code       object\n",
       "description      object\n",
       "quantity          int64\n",
       "invoice_date     object\n",
       "unit_price      float64\n",
       "customer_id     float64\n",
       "country          object\n",
       "dtype: object"
      ]
     },
     "execution_count": 35,
     "metadata": {},
     "output_type": "execute_result"
    }
   ],
   "source": [
    "df1.dtypes"
   ]
  },
  {
   "cell_type": "markdown",
   "id": "e40482ad",
   "metadata": {},
   "source": [
    "## 1.4. Check NA"
   ]
  },
  {
   "cell_type": "code",
   "execution_count": 36,
   "id": "861ab59f",
   "metadata": {
    "ExecuteTime": {
     "end_time": "2022-11-25T23:59:15.436295Z",
     "start_time": "2022-11-25T23:59:15.299280Z"
    }
   },
   "outputs": [
    {
     "data": {
      "text/plain": [
       "invoice_no           0\n",
       "stock_code           0\n",
       "description       1454\n",
       "quantity             0\n",
       "invoice_date         0\n",
       "unit_price           0\n",
       "customer_id     135080\n",
       "country              0\n",
       "dtype: int64"
      ]
     },
     "execution_count": 36,
     "metadata": {},
     "output_type": "execute_result"
    }
   ],
   "source": [
    "df1.isna().sum()"
   ]
  },
  {
   "cell_type": "markdown",
   "id": "3b997433",
   "metadata": {},
   "source": [
    "## 1.5. Replace NA"
   ]
  },
  {
   "cell_type": "code",
   "execution_count": 37,
   "id": "37d41b28",
   "metadata": {
    "ExecuteTime": {
     "end_time": "2022-11-25T23:59:15.934141Z",
     "start_time": "2022-11-25T23:59:15.795154Z"
    }
   },
   "outputs": [
    {
     "name": "stdout",
     "output_type": "stream",
     "text": [
      "Removed data: 0.25%\n"
     ]
    }
   ],
   "source": [
    "# Remova na\n",
    "df1 = df1.dropna (subset=['description', 'customer_id'])\n",
    "\n",
    "\n",
    "\n",
    "print('Removed data: {:.2f}%'.format(1-(df1.shape[0] / df_raw.shape[0])))"
   ]
  },
  {
   "cell_type": "markdown",
   "id": "79f6b858",
   "metadata": {},
   "source": [
    "## 1.6. Change dtypes"
   ]
  },
  {
   "cell_type": "code",
   "execution_count": 38,
   "id": "6a3e6946",
   "metadata": {
    "ExecuteTime": {
     "end_time": "2022-11-25T23:59:16.521825Z",
     "start_time": "2022-11-25T23:59:16.484895Z"
    }
   },
   "outputs": [
    {
     "data": {
      "text/html": [
       "<div>\n",
       "<style scoped>\n",
       "    .dataframe tbody tr th:only-of-type {\n",
       "        vertical-align: middle;\n",
       "    }\n",
       "\n",
       "    .dataframe tbody tr th {\n",
       "        vertical-align: top;\n",
       "    }\n",
       "\n",
       "    .dataframe thead th {\n",
       "        text-align: right;\n",
       "    }\n",
       "</style>\n",
       "<table border=\"1\" class=\"dataframe\">\n",
       "  <thead>\n",
       "    <tr style=\"text-align: right;\">\n",
       "      <th></th>\n",
       "      <th>invoice_no</th>\n",
       "      <th>stock_code</th>\n",
       "      <th>description</th>\n",
       "      <th>quantity</th>\n",
       "      <th>invoice_date</th>\n",
       "      <th>unit_price</th>\n",
       "      <th>customer_id</th>\n",
       "      <th>country</th>\n",
       "    </tr>\n",
       "  </thead>\n",
       "  <tbody>\n",
       "    <tr>\n",
       "      <th>0</th>\n",
       "      <td>536365</td>\n",
       "      <td>85123A</td>\n",
       "      <td>WHITE HANGING HEART T-LIGHT HOLDER</td>\n",
       "      <td>6</td>\n",
       "      <td>29-Nov-16</td>\n",
       "      <td>2.55</td>\n",
       "      <td>17850.0</td>\n",
       "      <td>United Kingdom</td>\n",
       "    </tr>\n",
       "    <tr>\n",
       "      <th>1</th>\n",
       "      <td>536365</td>\n",
       "      <td>71053</td>\n",
       "      <td>WHITE METAL LANTERN</td>\n",
       "      <td>6</td>\n",
       "      <td>29-Nov-16</td>\n",
       "      <td>3.39</td>\n",
       "      <td>17850.0</td>\n",
       "      <td>United Kingdom</td>\n",
       "    </tr>\n",
       "    <tr>\n",
       "      <th>2</th>\n",
       "      <td>536365</td>\n",
       "      <td>84406B</td>\n",
       "      <td>CREAM CUPID HEARTS COAT HANGER</td>\n",
       "      <td>8</td>\n",
       "      <td>29-Nov-16</td>\n",
       "      <td>2.75</td>\n",
       "      <td>17850.0</td>\n",
       "      <td>United Kingdom</td>\n",
       "    </tr>\n",
       "    <tr>\n",
       "      <th>3</th>\n",
       "      <td>536365</td>\n",
       "      <td>84029G</td>\n",
       "      <td>KNITTED UNION FLAG HOT WATER BOTTLE</td>\n",
       "      <td>6</td>\n",
       "      <td>29-Nov-16</td>\n",
       "      <td>3.39</td>\n",
       "      <td>17850.0</td>\n",
       "      <td>United Kingdom</td>\n",
       "    </tr>\n",
       "    <tr>\n",
       "      <th>4</th>\n",
       "      <td>536365</td>\n",
       "      <td>84029E</td>\n",
       "      <td>RED WOOLLY HOTTIE WHITE HEART.</td>\n",
       "      <td>6</td>\n",
       "      <td>29-Nov-16</td>\n",
       "      <td>3.39</td>\n",
       "      <td>17850.0</td>\n",
       "      <td>United Kingdom</td>\n",
       "    </tr>\n",
       "  </tbody>\n",
       "</table>\n",
       "</div>"
      ],
      "text/plain": [
       "  invoice_no stock_code                          description  quantity invoice_date  unit_price  customer_id         country\n",
       "0     536365     85123A   WHITE HANGING HEART T-LIGHT HOLDER         6    29-Nov-16        2.55      17850.0  United Kingdom\n",
       "1     536365      71053                  WHITE METAL LANTERN         6    29-Nov-16        3.39      17850.0  United Kingdom\n",
       "2     536365     84406B       CREAM CUPID HEARTS COAT HANGER         8    29-Nov-16        2.75      17850.0  United Kingdom\n",
       "3     536365     84029G  KNITTED UNION FLAG HOT WATER BOTTLE         6    29-Nov-16        3.39      17850.0  United Kingdom\n",
       "4     536365     84029E       RED WOOLLY HOTTIE WHITE HEART.         6    29-Nov-16        3.39      17850.0  United Kingdom"
      ]
     },
     "execution_count": 38,
     "metadata": {},
     "output_type": "execute_result"
    }
   ],
   "source": [
    "df1.head()"
   ]
  },
  {
   "cell_type": "code",
   "execution_count": 39,
   "id": "23560b3b",
   "metadata": {
    "ExecuteTime": {
     "end_time": "2022-11-25T23:59:16.797493Z",
     "start_time": "2022-11-25T23:59:16.698510Z"
    }
   },
   "outputs": [
    {
     "data": {
      "text/html": [
       "<div>\n",
       "<style scoped>\n",
       "    .dataframe tbody tr th:only-of-type {\n",
       "        vertical-align: middle;\n",
       "    }\n",
       "\n",
       "    .dataframe tbody tr th {\n",
       "        vertical-align: top;\n",
       "    }\n",
       "\n",
       "    .dataframe thead th {\n",
       "        text-align: right;\n",
       "    }\n",
       "</style>\n",
       "<table border=\"1\" class=\"dataframe\">\n",
       "  <thead>\n",
       "    <tr style=\"text-align: right;\">\n",
       "      <th></th>\n",
       "      <th>invoice_no</th>\n",
       "      <th>stock_code</th>\n",
       "      <th>description</th>\n",
       "      <th>quantity</th>\n",
       "      <th>invoice_date</th>\n",
       "      <th>unit_price</th>\n",
       "      <th>customer_id</th>\n",
       "      <th>country</th>\n",
       "    </tr>\n",
       "  </thead>\n",
       "  <tbody>\n",
       "    <tr>\n",
       "      <th>0</th>\n",
       "      <td>536365</td>\n",
       "      <td>85123A</td>\n",
       "      <td>WHITE HANGING HEART T-LIGHT HOLDER</td>\n",
       "      <td>6</td>\n",
       "      <td>2016-11-29</td>\n",
       "      <td>2.55</td>\n",
       "      <td>17850</td>\n",
       "      <td>United Kingdom</td>\n",
       "    </tr>\n",
       "    <tr>\n",
       "      <th>1</th>\n",
       "      <td>536365</td>\n",
       "      <td>71053</td>\n",
       "      <td>WHITE METAL LANTERN</td>\n",
       "      <td>6</td>\n",
       "      <td>2016-11-29</td>\n",
       "      <td>3.39</td>\n",
       "      <td>17850</td>\n",
       "      <td>United Kingdom</td>\n",
       "    </tr>\n",
       "    <tr>\n",
       "      <th>2</th>\n",
       "      <td>536365</td>\n",
       "      <td>84406B</td>\n",
       "      <td>CREAM CUPID HEARTS COAT HANGER</td>\n",
       "      <td>8</td>\n",
       "      <td>2016-11-29</td>\n",
       "      <td>2.75</td>\n",
       "      <td>17850</td>\n",
       "      <td>United Kingdom</td>\n",
       "    </tr>\n",
       "    <tr>\n",
       "      <th>3</th>\n",
       "      <td>536365</td>\n",
       "      <td>84029G</td>\n",
       "      <td>KNITTED UNION FLAG HOT WATER BOTTLE</td>\n",
       "      <td>6</td>\n",
       "      <td>2016-11-29</td>\n",
       "      <td>3.39</td>\n",
       "      <td>17850</td>\n",
       "      <td>United Kingdom</td>\n",
       "    </tr>\n",
       "    <tr>\n",
       "      <th>4</th>\n",
       "      <td>536365</td>\n",
       "      <td>84029E</td>\n",
       "      <td>RED WOOLLY HOTTIE WHITE HEART.</td>\n",
       "      <td>6</td>\n",
       "      <td>2016-11-29</td>\n",
       "      <td>3.39</td>\n",
       "      <td>17850</td>\n",
       "      <td>United Kingdom</td>\n",
       "    </tr>\n",
       "  </tbody>\n",
       "</table>\n",
       "</div>"
      ],
      "text/plain": [
       "  invoice_no stock_code                          description  quantity invoice_date  unit_price  customer_id         country\n",
       "0     536365     85123A   WHITE HANGING HEART T-LIGHT HOLDER         6   2016-11-29        2.55        17850  United Kingdom\n",
       "1     536365      71053                  WHITE METAL LANTERN         6   2016-11-29        3.39        17850  United Kingdom\n",
       "2     536365     84406B       CREAM CUPID HEARTS COAT HANGER         8   2016-11-29        2.75        17850  United Kingdom\n",
       "3     536365     84029G  KNITTED UNION FLAG HOT WATER BOTTLE         6   2016-11-29        3.39        17850  United Kingdom\n",
       "4     536365     84029E       RED WOOLLY HOTTIE WHITE HEART.         6   2016-11-29        3.39        17850  United Kingdom"
      ]
     },
     "execution_count": 39,
     "metadata": {},
     "output_type": "execute_result"
    }
   ],
   "source": [
    "# invoice_date\n",
    "df1['invoice_date'] = pd.to_datetime (df1['invoice_date'], format='%d-%b-%y')\n",
    "\n",
    "# customer_id\n",
    "\n",
    "df1['customer_id'] = df1['customer_id'].astype ( int )\n",
    "df1.head()"
   ]
  },
  {
   "cell_type": "markdown",
   "id": "47f539b7",
   "metadata": {},
   "source": [
    "## 1.7 Descriptive Statistics\n"
   ]
  },
  {
   "cell_type": "markdown",
   "id": "d421fc89",
   "metadata": {
    "ExecuteTime": {
     "end_time": "2022-11-14T00:00:01.761673Z",
     "start_time": "2022-11-14T00:00:01.755674Z"
    }
   },
   "source": [
    "# <font color='red'> 2.0. Feature Engineering </font>"
   ]
  },
  {
   "cell_type": "code",
   "execution_count": 40,
   "id": "da0ec7ed",
   "metadata": {
    "ExecuteTime": {
     "end_time": "2022-11-25T23:59:17.467077Z",
     "start_time": "2022-11-25T23:59:17.438463Z"
    }
   },
   "outputs": [],
   "source": [
    "df2= df1.copy()"
   ]
  },
  {
   "cell_type": "markdown",
   "id": "92114c76",
   "metadata": {},
   "source": [
    "## 2.1. Feature Creation"
   ]
  },
  {
   "cell_type": "code",
   "execution_count": 41,
   "id": "b2b2ed82",
   "metadata": {
    "ExecuteTime": {
     "end_time": "2022-11-25T23:59:18.276359Z",
     "start_time": "2022-11-25T23:59:18.251250Z"
    }
   },
   "outputs": [
    {
     "data": {
      "text/html": [
       "<div>\n",
       "<style scoped>\n",
       "    .dataframe tbody tr th:only-of-type {\n",
       "        vertical-align: middle;\n",
       "    }\n",
       "\n",
       "    .dataframe tbody tr th {\n",
       "        vertical-align: top;\n",
       "    }\n",
       "\n",
       "    .dataframe thead th {\n",
       "        text-align: right;\n",
       "    }\n",
       "</style>\n",
       "<table border=\"1\" class=\"dataframe\">\n",
       "  <thead>\n",
       "    <tr style=\"text-align: right;\">\n",
       "      <th></th>\n",
       "      <th>invoice_no</th>\n",
       "      <th>stock_code</th>\n",
       "      <th>description</th>\n",
       "      <th>quantity</th>\n",
       "      <th>invoice_date</th>\n",
       "      <th>unit_price</th>\n",
       "      <th>customer_id</th>\n",
       "      <th>country</th>\n",
       "    </tr>\n",
       "  </thead>\n",
       "  <tbody>\n",
       "    <tr>\n",
       "      <th>0</th>\n",
       "      <td>536365</td>\n",
       "      <td>85123A</td>\n",
       "      <td>WHITE HANGING HEART T-LIGHT HOLDER</td>\n",
       "      <td>6</td>\n",
       "      <td>2016-11-29</td>\n",
       "      <td>2.55</td>\n",
       "      <td>17850</td>\n",
       "      <td>United Kingdom</td>\n",
       "    </tr>\n",
       "    <tr>\n",
       "      <th>1</th>\n",
       "      <td>536365</td>\n",
       "      <td>71053</td>\n",
       "      <td>WHITE METAL LANTERN</td>\n",
       "      <td>6</td>\n",
       "      <td>2016-11-29</td>\n",
       "      <td>3.39</td>\n",
       "      <td>17850</td>\n",
       "      <td>United Kingdom</td>\n",
       "    </tr>\n",
       "    <tr>\n",
       "      <th>2</th>\n",
       "      <td>536365</td>\n",
       "      <td>84406B</td>\n",
       "      <td>CREAM CUPID HEARTS COAT HANGER</td>\n",
       "      <td>8</td>\n",
       "      <td>2016-11-29</td>\n",
       "      <td>2.75</td>\n",
       "      <td>17850</td>\n",
       "      <td>United Kingdom</td>\n",
       "    </tr>\n",
       "    <tr>\n",
       "      <th>3</th>\n",
       "      <td>536365</td>\n",
       "      <td>84029G</td>\n",
       "      <td>KNITTED UNION FLAG HOT WATER BOTTLE</td>\n",
       "      <td>6</td>\n",
       "      <td>2016-11-29</td>\n",
       "      <td>3.39</td>\n",
       "      <td>17850</td>\n",
       "      <td>United Kingdom</td>\n",
       "    </tr>\n",
       "    <tr>\n",
       "      <th>4</th>\n",
       "      <td>536365</td>\n",
       "      <td>84029E</td>\n",
       "      <td>RED WOOLLY HOTTIE WHITE HEART.</td>\n",
       "      <td>6</td>\n",
       "      <td>2016-11-29</td>\n",
       "      <td>3.39</td>\n",
       "      <td>17850</td>\n",
       "      <td>United Kingdom</td>\n",
       "    </tr>\n",
       "  </tbody>\n",
       "</table>\n",
       "</div>"
      ],
      "text/plain": [
       "  invoice_no stock_code                          description  quantity invoice_date  unit_price  customer_id         country\n",
       "0     536365     85123A   WHITE HANGING HEART T-LIGHT HOLDER         6   2016-11-29        2.55        17850  United Kingdom\n",
       "1     536365      71053                  WHITE METAL LANTERN         6   2016-11-29        3.39        17850  United Kingdom\n",
       "2     536365     84406B       CREAM CUPID HEARTS COAT HANGER         8   2016-11-29        2.75        17850  United Kingdom\n",
       "3     536365     84029G  KNITTED UNION FLAG HOT WATER BOTTLE         6   2016-11-29        3.39        17850  United Kingdom\n",
       "4     536365     84029E       RED WOOLLY HOTTIE WHITE HEART.         6   2016-11-29        3.39        17850  United Kingdom"
      ]
     },
     "execution_count": 41,
     "metadata": {},
     "output_type": "execute_result"
    }
   ],
   "source": [
    "df2.head()"
   ]
  },
  {
   "cell_type": "code",
   "execution_count": 42,
   "id": "7b47a832",
   "metadata": {
    "ExecuteTime": {
     "end_time": "2022-11-25T23:59:18.539467Z",
     "start_time": "2022-11-25T23:59:18.486432Z"
    }
   },
   "outputs": [],
   "source": [
    "# data reference > trabalhando com id e data unico\n",
    "\n",
    "df_ref = df2.drop(['invoice_no', 'stock_code', 'description','quantity', 'invoice_date','unit_price', 'country'], axis = 1).drop_duplicates(ignore_index=True)\n",
    "\n"
   ]
  },
  {
   "cell_type": "code",
   "execution_count": 43,
   "id": "74065336",
   "metadata": {
    "ExecuteTime": {
     "end_time": "2022-11-25T23:59:19.267441Z",
     "start_time": "2022-11-25T23:59:18.946424Z"
    }
   },
   "outputs": [
    {
     "data": {
      "text/html": [
       "<div>\n",
       "<style scoped>\n",
       "    .dataframe tbody tr th:only-of-type {\n",
       "        vertical-align: middle;\n",
       "    }\n",
       "\n",
       "    .dataframe tbody tr th {\n",
       "        vertical-align: top;\n",
       "    }\n",
       "\n",
       "    .dataframe thead th {\n",
       "        text-align: right;\n",
       "    }\n",
       "</style>\n",
       "<table border=\"1\" class=\"dataframe\">\n",
       "  <thead>\n",
       "    <tr style=\"text-align: right;\">\n",
       "      <th></th>\n",
       "      <th>customer_id</th>\n",
       "      <th>gross_revenue</th>\n",
       "      <th>recency_days</th>\n",
       "      <th>invoice_no</th>\n",
       "    </tr>\n",
       "  </thead>\n",
       "  <tbody>\n",
       "    <tr>\n",
       "      <th>0</th>\n",
       "      <td>17850</td>\n",
       "      <td>5288.63</td>\n",
       "      <td>302</td>\n",
       "      <td>35</td>\n",
       "    </tr>\n",
       "    <tr>\n",
       "      <th>1</th>\n",
       "      <td>13047</td>\n",
       "      <td>3079.10</td>\n",
       "      <td>31</td>\n",
       "      <td>18</td>\n",
       "    </tr>\n",
       "    <tr>\n",
       "      <th>2</th>\n",
       "      <td>12583</td>\n",
       "      <td>7187.34</td>\n",
       "      <td>2</td>\n",
       "      <td>18</td>\n",
       "    </tr>\n",
       "    <tr>\n",
       "      <th>3</th>\n",
       "      <td>13748</td>\n",
       "      <td>948.25</td>\n",
       "      <td>95</td>\n",
       "      <td>5</td>\n",
       "    </tr>\n",
       "    <tr>\n",
       "      <th>4</th>\n",
       "      <td>15100</td>\n",
       "      <td>635.10</td>\n",
       "      <td>330</td>\n",
       "      <td>6</td>\n",
       "    </tr>\n",
       "  </tbody>\n",
       "</table>\n",
       "</div>"
      ],
      "text/plain": [
       "   customer_id  gross_revenue  recency_days  invoice_no\n",
       "0        17850        5288.63           302          35\n",
       "1        13047        3079.10            31          18\n",
       "2        12583        7187.34             2          18\n",
       "3        13748         948.25            95           5\n",
       "4        15100         635.10           330           6"
      ]
     },
     "execution_count": 43,
     "metadata": {},
     "output_type": "execute_result"
    }
   ],
   "source": [
    "# Cross Revenue ( Faturamento ) quantity * price = Faturamento\n",
    "df2['gross_revenue'] = df2['quantity'] * df2['unit_price']\n",
    "\n",
    "# Monetary\n",
    "df_monetary =  df2[['customer_id', 'gross_revenue']].groupby( 'customer_id').sum().reset_index()\n",
    "df_ref = pd.merge ( df_ref, df_monetary, on= 'customer_id', how='left')\n",
    "\n",
    "\n",
    "# Recency - Last dat purchase\n",
    "df_recency = df2[['customer_id', 'invoice_date']].groupby('customer_id').max().reset_index()\n",
    "df_recency['recency_days'] = (df2['invoice_date'].max() - df_recency['invoice_date']).dt.days  # ao invés de utilizar apply estou utilizando dt para transformar em inteiro\n",
    "df_recency = df_recency[['customer_id','recency_days']].copy() # fiz isso para escolher quais coluna entra no join\n",
    "df_ref = pd.merge ( df_ref, df_recency, on= 'customer_id', how='left')\n",
    "\n",
    "# Frequency\n",
    "df_freq = df2[['customer_id','invoice_no']].drop_duplicates().groupby('customer_id').count().reset_index()\n",
    "df_ref = pd.merge ( df_ref, df_freq, on= 'customer_id', how='left')\n",
    "df_ref.head()"
   ]
  },
  {
   "cell_type": "markdown",
   "id": "81102b60",
   "metadata": {},
   "source": [
    "# <font color='red'> 3.0. Filtragem de Variaveis </font>"
   ]
  },
  {
   "cell_type": "code",
   "execution_count": 44,
   "id": "6f5e740a",
   "metadata": {
    "ExecuteTime": {
     "end_time": "2022-11-25T23:59:21.389281Z",
     "start_time": "2022-11-25T23:59:21.367721Z"
    }
   },
   "outputs": [],
   "source": [
    "df3 = df_ref.copy()"
   ]
  },
  {
   "cell_type": "markdown",
   "id": "e0e32d16",
   "metadata": {},
   "source": [
    "# <font color='red'> 4.0. EDA </font>"
   ]
  },
  {
   "cell_type": "code",
   "execution_count": 45,
   "id": "175102ae",
   "metadata": {
    "ExecuteTime": {
     "end_time": "2022-11-25T23:59:22.742434Z",
     "start_time": "2022-11-25T23:59:22.736425Z"
    }
   },
   "outputs": [],
   "source": [
    "df4 = df3.copy()"
   ]
  },
  {
   "cell_type": "markdown",
   "id": "5f9eccb7",
   "metadata": {},
   "source": [
    "# <font color='red'> 5.0. Data Preparation </font>"
   ]
  },
  {
   "cell_type": "code",
   "execution_count": 46,
   "id": "40d5cace",
   "metadata": {
    "ExecuteTime": {
     "end_time": "2022-11-25T23:59:23.832207Z",
     "start_time": "2022-11-25T23:59:23.817215Z"
    }
   },
   "outputs": [],
   "source": [
    "df5 = df4.copy()"
   ]
  },
  {
   "cell_type": "markdown",
   "id": "086362c5",
   "metadata": {
    "ExecuteTime": {
     "end_time": "2022-11-14T00:02:08.052759Z",
     "start_time": "2022-11-14T00:02:08.038773Z"
    }
   },
   "source": [
    "# <font color='red'> 6.0. Feature Selection </font>"
   ]
  },
  {
   "cell_type": "code",
   "execution_count": 47,
   "id": "1634bdf8",
   "metadata": {
    "ExecuteTime": {
     "end_time": "2022-11-25T23:59:24.188396Z",
     "start_time": "2022-11-25T23:59:24.179359Z"
    }
   },
   "outputs": [],
   "source": [
    "df6 = df5.copy()"
   ]
  },
  {
   "cell_type": "markdown",
   "id": "d3dd7a5c",
   "metadata": {
    "ExecuteTime": {
     "end_time": "2022-11-14T00:02:51.218004Z",
     "start_time": "2022-11-14T00:02:51.198010Z"
    }
   },
   "source": [
    "# <font color='red'> 7.0. Hyperparameter Fine-Tunning</font>"
   ]
  },
  {
   "cell_type": "code",
   "execution_count": 48,
   "id": "485bb702",
   "metadata": {
    "ExecuteTime": {
     "end_time": "2022-11-25T23:59:24.668211Z",
     "start_time": "2022-11-25T23:59:24.649561Z"
    }
   },
   "outputs": [],
   "source": [
    "X = df6.drop( columns=['customer_id'])"
   ]
  },
  {
   "cell_type": "code",
   "execution_count": 49,
   "id": "a40cedd3",
   "metadata": {
    "ExecuteTime": {
     "end_time": "2022-11-25T23:59:25.054777Z",
     "start_time": "2022-11-25T23:59:25.036343Z"
    }
   },
   "outputs": [],
   "source": [
    "clusters = [2,3,4,5,6]"
   ]
  },
  {
   "cell_type": "markdown",
   "id": "25ff2bd3",
   "metadata": {},
   "source": [
    "## 7.1. Within-Clusteer Sum of Square (WSS)"
   ]
  },
  {
   "cell_type": "code",
   "execution_count": 50,
   "id": "af519ec3",
   "metadata": {
    "ExecuteTime": {
     "end_time": "2022-11-25T23:59:25.753966Z",
     "start_time": "2022-11-25T23:59:25.713499Z"
    },
    "cell_style": "center",
    "hide_input": false
   },
   "outputs": [
    {
     "ename": "NameError",
     "evalue": "name 'c' is not defined",
     "output_type": "error",
     "traceback": [
      "\u001b[1;31m---------------------------------------------------------------------------\u001b[0m",
      "\u001b[1;31mNameError\u001b[0m                                 Traceback (most recent call last)",
      "\u001b[1;32mC:\\Users\\YVESMO~1\\AppData\\Local\\Temp/ipykernel_8360/1012615243.py\u001b[0m in \u001b[0;36m<module>\u001b[1;34m\u001b[0m\n\u001b[0;32m      2\u001b[0m \u001b[1;32mfor\u001b[0m \u001b[0mk\u001b[0m \u001b[1;32min\u001b[0m \u001b[0mclusters\u001b[0m\u001b[1;33m:\u001b[0m\u001b[1;33m\u001b[0m\u001b[1;33m\u001b[0m\u001b[0m\n\u001b[0;32m      3\u001b[0m     \u001b[1;31m# model definition\u001b[0m\u001b[1;33m\u001b[0m\u001b[1;33m\u001b[0m\u001b[0m\n\u001b[1;32m----> 4\u001b[1;33m     \u001b[0mkmeans\u001b[0m \u001b[1;33m=\u001b[0m \u001b[0mc\u001b[0m\u001b[1;33m.\u001b[0m\u001b[0mKMeans\u001b[0m\u001b[1;33m(\u001b[0m \u001b[0minit\u001b[0m\u001b[1;33m=\u001b[0m\u001b[1;34m'random'\u001b[0m\u001b[1;33m,\u001b[0m \u001b[0mn_clusters\u001b[0m\u001b[1;33m=\u001b[0m\u001b[0mk\u001b[0m\u001b[1;33m,\u001b[0m \u001b[0mn_init\u001b[0m\u001b[1;33m=\u001b[0m\u001b[1;36m10\u001b[0m\u001b[1;33m,\u001b[0m \u001b[0mmax_iter\u001b[0m\u001b[1;33m=\u001b[0m\u001b[1;36m300\u001b[0m \u001b[1;33m)\u001b[0m\u001b[1;33m\u001b[0m\u001b[1;33m\u001b[0m\u001b[0m\n\u001b[0m\u001b[0;32m      5\u001b[0m     \u001b[1;31m# model training\u001b[0m\u001b[1;33m\u001b[0m\u001b[1;33m\u001b[0m\u001b[0m\n\u001b[0;32m      6\u001b[0m     \u001b[0mkmeans\u001b[0m\u001b[1;33m.\u001b[0m\u001b[0mfit\u001b[0m\u001b[1;33m(\u001b[0m \u001b[0mX\u001b[0m \u001b[1;33m)\u001b[0m\u001b[1;33m\u001b[0m\u001b[1;33m\u001b[0m\u001b[0m\n",
      "\u001b[1;31mNameError\u001b[0m: name 'c' is not defined"
     ]
    }
   ],
   "source": [
    "wss = []\n",
    "for k in clusters:\n",
    "    # model definition  \n",
    "    kmeans = c.KMeans( init='random', n_clusters=k, n_init=10, max_iter=300 )\n",
    "    # model training \n",
    "    kmeans.fit( X )\n",
    "    # validation \n",
    "    wss.append(kmeans.inertia_)\n",
    "    \n",
    "# plot wss - ELBOW METHOD \n",
    "# tenho que escolher o lugar que o ponto mais se desloca e testar para saber o cluster para utilizar nesse exemplo foi 3 e 5\n",
    "plt.plot (clusters, wss,linestyle='--', marker='o', color='b')\n",
    "plt.xlabel ( 'K');\n",
    "plt.ylabel ( 'Within-Cluster Sum of Square')\n",
    "plt.title( 'WSS VS k');"
   ]
  },
  {
   "cell_type": "code",
   "execution_count": 51,
   "id": "322193c2",
   "metadata": {
    "ExecuteTime": {
     "end_time": "2022-11-25T23:59:26.079549Z",
     "start_time": "2022-11-25T23:59:26.064340Z"
    },
    "cell_style": "center"
   },
   "outputs": [],
   "source": [
    "# from yellowbrick.cluster import KElbowVisualizer\n",
    "\n",
    "# kmeans = KElbowVisualizer( c.KMeans(), k=clusters, timinings=False)\n",
    "# kmeans.fit( X )\n",
    "# kmeans.show()"
   ]
  },
  {
   "cell_type": "markdown",
   "id": "4accb973",
   "metadata": {},
   "source": [
    "## 7.2. Sillhouette Score"
   ]
  },
  {
   "cell_type": "code",
   "execution_count": 52,
   "id": "a40bb3ce",
   "metadata": {
    "ExecuteTime": {
     "end_time": "2022-11-25T23:59:27.058302Z",
     "start_time": "2022-11-25T23:59:27.049296Z"
    },
    "cell_style": "center",
    "hide_input": false
   },
   "outputs": [],
   "source": [
    "# from yellowbrick.cluster import KElbowVisualizer\n",
    "\n",
    "# kmeans = KElbowVisualizer( c.KMeans(), k=clusters, metric='silhouette', timinings=False)\n",
    "# kmeans.fit( X )\n",
    "# kmeans.show()\n",
    "# problema com modulo"
   ]
  },
  {
   "cell_type": "markdown",
   "id": "363f1eec",
   "metadata": {
    "ExecuteTime": {
     "end_time": "2022-11-14T00:03:16.360482Z",
     "start_time": "2022-11-14T00:03:16.348484Z"
    }
   },
   "source": [
    "# <font color='red'> 8.0. Model Training </font>"
   ]
  },
  {
   "cell_type": "markdown",
   "id": "e9b24244",
   "metadata": {
    "ExecuteTime": {
     "end_time": "2022-11-26T00:08:39.656278Z",
     "start_time": "2022-11-26T00:08:39.641290Z"
    }
   },
   "source": [
    "## 8.1. K-Means"
   ]
  },
  {
   "cell_type": "code",
   "execution_count": 57,
   "id": "b2415101",
   "metadata": {
    "ExecuteTime": {
     "end_time": "2022-11-26T00:07:03.488295Z",
     "start_time": "2022-11-26T00:07:03.313237Z"
    }
   },
   "outputs": [],
   "source": [
    "# model definition\n",
    "k = 3  #valor de cluster do kmeans\n",
    "kmeans= c.KMeans( init= 'random', n_clusters=k, n_init=10, max_iter=300, random_state=42) # init='random' modo aleatorio porem igual sempre q rodar\n",
    "\n",
    "#model training \n",
    "kmeans.fit( X )\n",
    "\n",
    "# clustering \n",
    "labels = kmeans.labels_"
   ]
  },
  {
   "cell_type": "markdown",
   "id": "dbe37c9c",
   "metadata": {},
   "source": [
    "# <font color='red'> 9.0. Cluster Analysis </font>"
   ]
  },
  {
   "cell_type": "markdown",
   "id": "627d6be8",
   "metadata": {},
   "source": [
    "# <font color='red'> 10.0. Descrição dos dados </font>"
   ]
  }
 ],
 "metadata": {
  "kernelspec": {
   "display_name": "Python 3 (ipykernel)",
   "language": "python",
   "name": "python3"
  },
  "language_info": {
   "codemirror_mode": {
    "name": "ipython",
    "version": 3
   },
   "file_extension": ".py",
   "mimetype": "text/x-python",
   "name": "python",
   "nbconvert_exporter": "python",
   "pygments_lexer": "ipython3",
   "version": "3.9.7"
  }
 },
 "nbformat": 4,
 "nbformat_minor": 5
}
