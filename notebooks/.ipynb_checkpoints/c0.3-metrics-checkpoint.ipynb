{
 "cells": [
  {
   "cell_type": "markdown",
   "id": "57b749ca",
   "metadata": {},
   "source": [
    "# 0.0 Imports"
   ]
  },
  {
   "cell_type": "code",
   "execution_count": 6,
   "id": "ddc7a699",
   "metadata": {
    "ExecuteTime": {
     "end_time": "2022-11-27T23:15:51.206631Z",
     "start_time": "2022-11-27T23:15:50.791138Z"
    }
   },
   "outputs": [],
   "source": [
    "import numpy   as np\n",
    "import pandas  as pd\n",
    "import seaborn as sns\n",
    "\n",
    "import umap.umap_ as umap   # pip install umap-learn\n",
    "\n",
    "from IPython.display import HTML\n",
    "from matplotlib import pyplot as plt\n",
    "\n",
    "\n",
    "from sklearn import cluster       as c\n",
    "from sklearn import metrics       as m\n",
    "from sklearn import preprocessing as pp\n",
    "\n",
    "from plotly import express as px\n",
    "\n",
    "from yellowbrick.cluster import KElbowVisualizer, SilhouetteVisualizer ## pip install yellowbrick"
   ]
  },
  {
   "cell_type": "markdown",
   "id": "96f851a5",
   "metadata": {
    "ExecuteTime": {
     "end_time": "2022-11-14T00:06:56.366533Z",
     "start_time": "2022-11-14T00:06:56.357530Z"
    }
   },
   "source": [
    "## 0.1. Helper Functions"
   ]
  },
  {
   "cell_type": "code",
   "execution_count": 2,
   "id": "e6c3bffd",
   "metadata": {
    "ExecuteTime": {
     "end_time": "2022-11-27T21:26:51.588866Z",
     "start_time": "2022-11-27T21:26:51.514305Z"
    }
   },
   "outputs": [
    {
     "name": "stdout",
     "output_type": "stream",
     "text": [
      "Populating the interactive namespace from numpy and matplotlib\n"
     ]
    },
    {
     "data": {
      "text/html": [
       "<style>.container { width:100% !important; }</style>"
      ],
      "text/plain": [
       "<IPython.core.display.HTML object>"
      ]
     },
     "metadata": {},
     "output_type": "display_data"
    }
   ],
   "source": [
    "def jupyter_settings():\n",
    "    %matplotlib inline\n",
    "    %pylab inline\n",
    "    \n",
    "    plt.style.use( 'ggplot')\n",
    "    plt.rcParams['figure.figsize'] = [24, 9]\n",
    "    plt.rcParams['font.size'] = 24\n",
    "    \n",
    "    display( HTML( '<style>.container { width:100% !important; }</style>') )\n",
    "    pd.options.display.max_columns = None\n",
    "    pd.options.display.max_rows = None\n",
    "    pd.set_option( 'display.expand_frame_repr', False )\n",
    "    \n",
    "    sns.set()\n",
    "    \n",
    "jupyter_settings()"
   ]
  },
  {
   "cell_type": "markdown",
   "id": "8608bda2",
   "metadata": {},
   "source": [
    "## 0.2 Load dataset"
   ]
  },
  {
   "cell_type": "code",
   "execution_count": 23,
   "id": "136f9751",
   "metadata": {
    "ExecuteTime": {
     "end_time": "2022-11-27T21:42:47.788809Z",
     "start_time": "2022-11-27T21:42:47.060814Z"
    }
   },
   "outputs": [
    {
     "data": {
      "text/html": [
       "<div>\n",
       "<style scoped>\n",
       "    .dataframe tbody tr th:only-of-type {\n",
       "        vertical-align: middle;\n",
       "    }\n",
       "\n",
       "    .dataframe tbody tr th {\n",
       "        vertical-align: top;\n",
       "    }\n",
       "\n",
       "    .dataframe thead th {\n",
       "        text-align: right;\n",
       "    }\n",
       "</style>\n",
       "<table border=\"1\" class=\"dataframe\">\n",
       "  <thead>\n",
       "    <tr style=\"text-align: right;\">\n",
       "      <th></th>\n",
       "      <th>InvoiceNo</th>\n",
       "      <th>StockCode</th>\n",
       "      <th>Description</th>\n",
       "      <th>Quantity</th>\n",
       "      <th>InvoiceDate</th>\n",
       "      <th>UnitPrice</th>\n",
       "      <th>CustomerID</th>\n",
       "      <th>Country</th>\n",
       "    </tr>\n",
       "  </thead>\n",
       "  <tbody>\n",
       "    <tr>\n",
       "      <th>0</th>\n",
       "      <td>536365</td>\n",
       "      <td>85123A</td>\n",
       "      <td>WHITE HANGING HEART T-LIGHT HOLDER</td>\n",
       "      <td>6</td>\n",
       "      <td>29-Nov-16</td>\n",
       "      <td>2.55</td>\n",
       "      <td>17850.0</td>\n",
       "      <td>United Kingdom</td>\n",
       "    </tr>\n",
       "    <tr>\n",
       "      <th>1</th>\n",
       "      <td>536365</td>\n",
       "      <td>71053</td>\n",
       "      <td>WHITE METAL LANTERN</td>\n",
       "      <td>6</td>\n",
       "      <td>29-Nov-16</td>\n",
       "      <td>3.39</td>\n",
       "      <td>17850.0</td>\n",
       "      <td>United Kingdom</td>\n",
       "    </tr>\n",
       "    <tr>\n",
       "      <th>2</th>\n",
       "      <td>536365</td>\n",
       "      <td>84406B</td>\n",
       "      <td>CREAM CUPID HEARTS COAT HANGER</td>\n",
       "      <td>8</td>\n",
       "      <td>29-Nov-16</td>\n",
       "      <td>2.75</td>\n",
       "      <td>17850.0</td>\n",
       "      <td>United Kingdom</td>\n",
       "    </tr>\n",
       "    <tr>\n",
       "      <th>3</th>\n",
       "      <td>536365</td>\n",
       "      <td>84029G</td>\n",
       "      <td>KNITTED UNION FLAG HOT WATER BOTTLE</td>\n",
       "      <td>6</td>\n",
       "      <td>29-Nov-16</td>\n",
       "      <td>3.39</td>\n",
       "      <td>17850.0</td>\n",
       "      <td>United Kingdom</td>\n",
       "    </tr>\n",
       "    <tr>\n",
       "      <th>4</th>\n",
       "      <td>536365</td>\n",
       "      <td>84029E</td>\n",
       "      <td>RED WOOLLY HOTTIE WHITE HEART.</td>\n",
       "      <td>6</td>\n",
       "      <td>29-Nov-16</td>\n",
       "      <td>3.39</td>\n",
       "      <td>17850.0</td>\n",
       "      <td>United Kingdom</td>\n",
       "    </tr>\n",
       "  </tbody>\n",
       "</table>\n",
       "</div>"
      ],
      "text/plain": [
       "  InvoiceNo StockCode                          Description  Quantity InvoiceDate  UnitPrice  CustomerID         Country\n",
       "0    536365    85123A   WHITE HANGING HEART T-LIGHT HOLDER         6   29-Nov-16       2.55     17850.0  United Kingdom\n",
       "1    536365     71053                  WHITE METAL LANTERN         6   29-Nov-16       3.39     17850.0  United Kingdom\n",
       "2    536365    84406B       CREAM CUPID HEARTS COAT HANGER         8   29-Nov-16       2.75     17850.0  United Kingdom\n",
       "3    536365    84029G  KNITTED UNION FLAG HOT WATER BOTTLE         6   29-Nov-16       3.39     17850.0  United Kingdom\n",
       "4    536365    84029E       RED WOOLLY HOTTIE WHITE HEART.         6   29-Nov-16       3.39     17850.0  United Kingdom"
      ]
     },
     "execution_count": 23,
     "metadata": {},
     "output_type": "execute_result"
    }
   ],
   "source": [
    "# load \n",
    "\n",
    "df_raw = pd.read_csv('../data/raw/Ecommerce.csv', encoding='unicode_escape', low_memory= False)\n",
    "\n",
    "df_raw = df_raw.drop( columns= ['Unnamed: 8'], axis = 1)\n",
    "df_raw.head()"
   ]
  },
  {
   "cell_type": "markdown",
   "id": "2a480260",
   "metadata": {
    "ExecuteTime": {
     "end_time": "2022-11-13T23:58:13.102882Z",
     "start_time": "2022-11-13T23:58:13.097264Z"
    }
   },
   "source": [
    "# <font color='red'> 1.0. Descrição dos dados </font>"
   ]
  },
  {
   "cell_type": "code",
   "execution_count": 24,
   "id": "6a13d07c",
   "metadata": {
    "ExecuteTime": {
     "end_time": "2022-11-27T21:42:48.025351Z",
     "start_time": "2022-11-27T21:42:48.002350Z"
    }
   },
   "outputs": [],
   "source": [
    "df1 = df_raw.copy()"
   ]
  },
  {
   "cell_type": "markdown",
   "id": "b0a838df",
   "metadata": {},
   "source": [
    "## 1.1. Rename columns "
   ]
  },
  {
   "cell_type": "code",
   "execution_count": 25,
   "id": "154263b0",
   "metadata": {
    "ExecuteTime": {
     "end_time": "2022-11-27T21:42:49.497170Z",
     "start_time": "2022-11-27T21:42:49.481177Z"
    }
   },
   "outputs": [
    {
     "data": {
      "text/plain": [
       "Index(['InvoiceNo', 'StockCode', 'Description', 'Quantity', 'InvoiceDate',\n",
       "       'UnitPrice', 'CustomerID', 'Country'],\n",
       "      dtype='object')"
      ]
     },
     "execution_count": 25,
     "metadata": {},
     "output_type": "execute_result"
    }
   ],
   "source": [
    "df1.columns"
   ]
  },
  {
   "cell_type": "code",
   "execution_count": 26,
   "id": "09c2f55c",
   "metadata": {
    "ExecuteTime": {
     "end_time": "2022-11-27T21:42:49.951891Z",
     "start_time": "2022-11-27T21:42:49.935890Z"
    }
   },
   "outputs": [],
   "source": [
    "cols_new = ['invoice_no', 'stock_code', 'description','quantity', 'invoice_date', 'unit_price', 'customer_id', 'country']\n",
    "df1.columns = cols_new"
   ]
  },
  {
   "cell_type": "markdown",
   "id": "7979ee08",
   "metadata": {
    "ExecuteTime": {
     "end_time": "2022-11-14T00:39:53.002339Z",
     "start_time": "2022-11-14T00:39:52.996327Z"
    }
   },
   "source": [
    "## 1.2. Data dimensions "
   ]
  },
  {
   "cell_type": "code",
   "execution_count": 27,
   "id": "6203cc62",
   "metadata": {
    "ExecuteTime": {
     "end_time": "2022-11-27T21:42:50.793846Z",
     "start_time": "2022-11-27T21:42:50.784845Z"
    }
   },
   "outputs": [
    {
     "name": "stdout",
     "output_type": "stream",
     "text": [
      "Number of rows: 541909\n",
      "Number of columns: 8\n"
     ]
    }
   ],
   "source": [
    "print( 'Number of rows: {}'.format (df1.shape[0]))\n",
    "print( 'Number of columns: {}'.format (df1.shape[1]))"
   ]
  },
  {
   "cell_type": "markdown",
   "id": "d7d8d3b5",
   "metadata": {},
   "source": [
    "## 1.3. Data types"
   ]
  },
  {
   "cell_type": "code",
   "execution_count": 36,
   "id": "1251592b",
   "metadata": {
    "ExecuteTime": {
     "end_time": "2022-11-27T21:44:38.652442Z",
     "start_time": "2022-11-27T21:44:38.641450Z"
    }
   },
   "outputs": [
    {
     "data": {
      "text/plain": [
       "invoice_no              object\n",
       "stock_code              object\n",
       "description             object\n",
       "quantity                 int64\n",
       "invoice_date    datetime64[ns]\n",
       "unit_price             float64\n",
       "customer_id              int64\n",
       "country                 object\n",
       "dtype: object"
      ]
     },
     "execution_count": 36,
     "metadata": {},
     "output_type": "execute_result"
    }
   ],
   "source": [
    "df1.dtypes"
   ]
  },
  {
   "cell_type": "markdown",
   "id": "e40482ad",
   "metadata": {},
   "source": [
    "## 1.4. Check NA"
   ]
  },
  {
   "cell_type": "code",
   "execution_count": 29,
   "id": "861ab59f",
   "metadata": {
    "ExecuteTime": {
     "end_time": "2022-11-27T21:43:02.139977Z",
     "start_time": "2022-11-27T21:43:02.000977Z"
    }
   },
   "outputs": [
    {
     "data": {
      "text/plain": [
       "invoice_no           0\n",
       "stock_code           0\n",
       "description       1454\n",
       "quantity             0\n",
       "invoice_date         0\n",
       "unit_price           0\n",
       "customer_id     135080\n",
       "country              0\n",
       "dtype: int64"
      ]
     },
     "execution_count": 29,
     "metadata": {},
     "output_type": "execute_result"
    }
   ],
   "source": [
    "df1.isna().sum()"
   ]
  },
  {
   "cell_type": "markdown",
   "id": "3b997433",
   "metadata": {},
   "source": [
    "## 1.5. Replace NA"
   ]
  },
  {
   "cell_type": "code",
   "execution_count": 30,
   "id": "37d41b28",
   "metadata": {
    "ExecuteTime": {
     "end_time": "2022-11-27T21:43:09.342973Z",
     "start_time": "2022-11-27T21:43:09.226974Z"
    }
   },
   "outputs": [
    {
     "name": "stdout",
     "output_type": "stream",
     "text": [
      "Removed data: 0.25%\n"
     ]
    }
   ],
   "source": [
    "# Remova na\n",
    "df1 = df1.dropna (subset=['description', 'customer_id'])\n",
    "\n",
    "\n",
    "\n",
    "print('Removed data: {:.2f}%'.format(1-(df1.shape[0] / df_raw.shape[0])))"
   ]
  },
  {
   "cell_type": "markdown",
   "id": "79f6b858",
   "metadata": {},
   "source": [
    "## 1.6. Change dtypes"
   ]
  },
  {
   "cell_type": "code",
   "execution_count": 31,
   "id": "6a3e6946",
   "metadata": {
    "ExecuteTime": {
     "end_time": "2022-11-27T21:43:11.350489Z",
     "start_time": "2022-11-27T21:43:11.317490Z"
    }
   },
   "outputs": [
    {
     "data": {
      "text/html": [
       "<div>\n",
       "<style scoped>\n",
       "    .dataframe tbody tr th:only-of-type {\n",
       "        vertical-align: middle;\n",
       "    }\n",
       "\n",
       "    .dataframe tbody tr th {\n",
       "        vertical-align: top;\n",
       "    }\n",
       "\n",
       "    .dataframe thead th {\n",
       "        text-align: right;\n",
       "    }\n",
       "</style>\n",
       "<table border=\"1\" class=\"dataframe\">\n",
       "  <thead>\n",
       "    <tr style=\"text-align: right;\">\n",
       "      <th></th>\n",
       "      <th>invoice_no</th>\n",
       "      <th>stock_code</th>\n",
       "      <th>description</th>\n",
       "      <th>quantity</th>\n",
       "      <th>invoice_date</th>\n",
       "      <th>unit_price</th>\n",
       "      <th>customer_id</th>\n",
       "      <th>country</th>\n",
       "    </tr>\n",
       "  </thead>\n",
       "  <tbody>\n",
       "    <tr>\n",
       "      <th>0</th>\n",
       "      <td>536365</td>\n",
       "      <td>85123A</td>\n",
       "      <td>WHITE HANGING HEART T-LIGHT HOLDER</td>\n",
       "      <td>6</td>\n",
       "      <td>29-Nov-16</td>\n",
       "      <td>2.55</td>\n",
       "      <td>17850.0</td>\n",
       "      <td>United Kingdom</td>\n",
       "    </tr>\n",
       "    <tr>\n",
       "      <th>1</th>\n",
       "      <td>536365</td>\n",
       "      <td>71053</td>\n",
       "      <td>WHITE METAL LANTERN</td>\n",
       "      <td>6</td>\n",
       "      <td>29-Nov-16</td>\n",
       "      <td>3.39</td>\n",
       "      <td>17850.0</td>\n",
       "      <td>United Kingdom</td>\n",
       "    </tr>\n",
       "    <tr>\n",
       "      <th>2</th>\n",
       "      <td>536365</td>\n",
       "      <td>84406B</td>\n",
       "      <td>CREAM CUPID HEARTS COAT HANGER</td>\n",
       "      <td>8</td>\n",
       "      <td>29-Nov-16</td>\n",
       "      <td>2.75</td>\n",
       "      <td>17850.0</td>\n",
       "      <td>United Kingdom</td>\n",
       "    </tr>\n",
       "    <tr>\n",
       "      <th>3</th>\n",
       "      <td>536365</td>\n",
       "      <td>84029G</td>\n",
       "      <td>KNITTED UNION FLAG HOT WATER BOTTLE</td>\n",
       "      <td>6</td>\n",
       "      <td>29-Nov-16</td>\n",
       "      <td>3.39</td>\n",
       "      <td>17850.0</td>\n",
       "      <td>United Kingdom</td>\n",
       "    </tr>\n",
       "    <tr>\n",
       "      <th>4</th>\n",
       "      <td>536365</td>\n",
       "      <td>84029E</td>\n",
       "      <td>RED WOOLLY HOTTIE WHITE HEART.</td>\n",
       "      <td>6</td>\n",
       "      <td>29-Nov-16</td>\n",
       "      <td>3.39</td>\n",
       "      <td>17850.0</td>\n",
       "      <td>United Kingdom</td>\n",
       "    </tr>\n",
       "  </tbody>\n",
       "</table>\n",
       "</div>"
      ],
      "text/plain": [
       "  invoice_no stock_code                          description  quantity invoice_date  unit_price  customer_id         country\n",
       "0     536365     85123A   WHITE HANGING HEART T-LIGHT HOLDER         6    29-Nov-16        2.55      17850.0  United Kingdom\n",
       "1     536365      71053                  WHITE METAL LANTERN         6    29-Nov-16        3.39      17850.0  United Kingdom\n",
       "2     536365     84406B       CREAM CUPID HEARTS COAT HANGER         8    29-Nov-16        2.75      17850.0  United Kingdom\n",
       "3     536365     84029G  KNITTED UNION FLAG HOT WATER BOTTLE         6    29-Nov-16        3.39      17850.0  United Kingdom\n",
       "4     536365     84029E       RED WOOLLY HOTTIE WHITE HEART.         6    29-Nov-16        3.39      17850.0  United Kingdom"
      ]
     },
     "execution_count": 31,
     "metadata": {},
     "output_type": "execute_result"
    }
   ],
   "source": [
    "df1.head()"
   ]
  },
  {
   "cell_type": "code",
   "execution_count": 37,
   "id": "23560b3b",
   "metadata": {
    "ExecuteTime": {
     "end_time": "2022-11-27T21:44:43.413786Z",
     "start_time": "2022-11-27T21:44:43.359786Z"
    }
   },
   "outputs": [
    {
     "data": {
      "text/html": [
       "<div>\n",
       "<style scoped>\n",
       "    .dataframe tbody tr th:only-of-type {\n",
       "        vertical-align: middle;\n",
       "    }\n",
       "\n",
       "    .dataframe tbody tr th {\n",
       "        vertical-align: top;\n",
       "    }\n",
       "\n",
       "    .dataframe thead th {\n",
       "        text-align: right;\n",
       "    }\n",
       "</style>\n",
       "<table border=\"1\" class=\"dataframe\">\n",
       "  <thead>\n",
       "    <tr style=\"text-align: right;\">\n",
       "      <th></th>\n",
       "      <th>invoice_no</th>\n",
       "      <th>stock_code</th>\n",
       "      <th>description</th>\n",
       "      <th>quantity</th>\n",
       "      <th>invoice_date</th>\n",
       "      <th>unit_price</th>\n",
       "      <th>customer_id</th>\n",
       "      <th>country</th>\n",
       "    </tr>\n",
       "  </thead>\n",
       "  <tbody>\n",
       "    <tr>\n",
       "      <th>0</th>\n",
       "      <td>536365</td>\n",
       "      <td>85123A</td>\n",
       "      <td>WHITE HANGING HEART T-LIGHT HOLDER</td>\n",
       "      <td>6</td>\n",
       "      <td>2016-11-29</td>\n",
       "      <td>2.55</td>\n",
       "      <td>17850</td>\n",
       "      <td>United Kingdom</td>\n",
       "    </tr>\n",
       "    <tr>\n",
       "      <th>1</th>\n",
       "      <td>536365</td>\n",
       "      <td>71053</td>\n",
       "      <td>WHITE METAL LANTERN</td>\n",
       "      <td>6</td>\n",
       "      <td>2016-11-29</td>\n",
       "      <td>3.39</td>\n",
       "      <td>17850</td>\n",
       "      <td>United Kingdom</td>\n",
       "    </tr>\n",
       "    <tr>\n",
       "      <th>2</th>\n",
       "      <td>536365</td>\n",
       "      <td>84406B</td>\n",
       "      <td>CREAM CUPID HEARTS COAT HANGER</td>\n",
       "      <td>8</td>\n",
       "      <td>2016-11-29</td>\n",
       "      <td>2.75</td>\n",
       "      <td>17850</td>\n",
       "      <td>United Kingdom</td>\n",
       "    </tr>\n",
       "    <tr>\n",
       "      <th>3</th>\n",
       "      <td>536365</td>\n",
       "      <td>84029G</td>\n",
       "      <td>KNITTED UNION FLAG HOT WATER BOTTLE</td>\n",
       "      <td>6</td>\n",
       "      <td>2016-11-29</td>\n",
       "      <td>3.39</td>\n",
       "      <td>17850</td>\n",
       "      <td>United Kingdom</td>\n",
       "    </tr>\n",
       "    <tr>\n",
       "      <th>4</th>\n",
       "      <td>536365</td>\n",
       "      <td>84029E</td>\n",
       "      <td>RED WOOLLY HOTTIE WHITE HEART.</td>\n",
       "      <td>6</td>\n",
       "      <td>2016-11-29</td>\n",
       "      <td>3.39</td>\n",
       "      <td>17850</td>\n",
       "      <td>United Kingdom</td>\n",
       "    </tr>\n",
       "  </tbody>\n",
       "</table>\n",
       "</div>"
      ],
      "text/plain": [
       "  invoice_no stock_code                          description  quantity invoice_date  unit_price  customer_id         country\n",
       "0     536365     85123A   WHITE HANGING HEART T-LIGHT HOLDER         6   2016-11-29        2.55        17850  United Kingdom\n",
       "1     536365      71053                  WHITE METAL LANTERN         6   2016-11-29        3.39        17850  United Kingdom\n",
       "2     536365     84406B       CREAM CUPID HEARTS COAT HANGER         8   2016-11-29        2.75        17850  United Kingdom\n",
       "3     536365     84029G  KNITTED UNION FLAG HOT WATER BOTTLE         6   2016-11-29        3.39        17850  United Kingdom\n",
       "4     536365     84029E       RED WOOLLY HOTTIE WHITE HEART.         6   2016-11-29        3.39        17850  United Kingdom"
      ]
     },
     "execution_count": 37,
     "metadata": {},
     "output_type": "execute_result"
    }
   ],
   "source": [
    "# invoice date\n",
    "df1['invoice_date'] = pd.to_datetime( df1['invoice_date'], format='%d-%b-%y' )\n",
    "\n",
    "# customer id\n",
    "df1['customer_id'] = df1['customer_id'].astype( int64 )\n",
    "df1.head()"
   ]
  },
  {
   "cell_type": "markdown",
   "id": "47f539b7",
   "metadata": {},
   "source": [
    "## 1.7 Descriptive Statistics\n"
   ]
  },
  {
   "cell_type": "code",
   "execution_count": 41,
   "id": "02cd3748",
   "metadata": {
    "ExecuteTime": {
     "end_time": "2022-11-27T21:52:26.634560Z",
     "start_time": "2022-11-27T21:52:26.607563Z"
    }
   },
   "outputs": [],
   "source": [
    "num_attributes = df1.select_dtypes ( include=['int64','float64'])\n",
    "cat_attributes = df1.select_dtypes( exclude=['int64', 'float64', 'datetime64[ns]'] )"
   ]
  },
  {
   "cell_type": "markdown",
   "id": "550b509a",
   "metadata": {},
   "source": [
    "### 1.7.1 Numerical Attributs"
   ]
  },
  {
   "cell_type": "code",
   "execution_count": 42,
   "id": "98525168",
   "metadata": {
    "ExecuteTime": {
     "end_time": "2022-11-27T21:52:27.188197Z",
     "start_time": "2022-11-27T21:52:27.088195Z"
    }
   },
   "outputs": [
    {
     "data": {
      "text/html": [
       "<div>\n",
       "<style scoped>\n",
       "    .dataframe tbody tr th:only-of-type {\n",
       "        vertical-align: middle;\n",
       "    }\n",
       "\n",
       "    .dataframe tbody tr th {\n",
       "        vertical-align: top;\n",
       "    }\n",
       "\n",
       "    .dataframe thead th {\n",
       "        text-align: right;\n",
       "    }\n",
       "</style>\n",
       "<table border=\"1\" class=\"dataframe\">\n",
       "  <thead>\n",
       "    <tr style=\"text-align: right;\">\n",
       "      <th></th>\n",
       "      <th>attributes</th>\n",
       "      <th>min</th>\n",
       "      <th>max</th>\n",
       "      <th>range</th>\n",
       "      <th>mean</th>\n",
       "      <th>mediana</th>\n",
       "      <th>std</th>\n",
       "      <th>skew</th>\n",
       "      <th>kurtosis</th>\n",
       "    </tr>\n",
       "  </thead>\n",
       "  <tbody>\n",
       "    <tr>\n",
       "      <th>0</th>\n",
       "      <td>quantity</td>\n",
       "      <td>-80995.0</td>\n",
       "      <td>80995.0</td>\n",
       "      <td>161990.0</td>\n",
       "      <td>12.061303</td>\n",
       "      <td>5.00</td>\n",
       "      <td>248.693064</td>\n",
       "      <td>0.182663</td>\n",
       "      <td>94317.563673</td>\n",
       "    </tr>\n",
       "    <tr>\n",
       "      <th>1</th>\n",
       "      <td>unit_price</td>\n",
       "      <td>0.0</td>\n",
       "      <td>38970.0</td>\n",
       "      <td>38970.0</td>\n",
       "      <td>3.460471</td>\n",
       "      <td>1.95</td>\n",
       "      <td>69.315077</td>\n",
       "      <td>452.219019</td>\n",
       "      <td>246924.542988</td>\n",
       "    </tr>\n",
       "    <tr>\n",
       "      <th>2</th>\n",
       "      <td>customer_id</td>\n",
       "      <td>12346.0</td>\n",
       "      <td>18287.0</td>\n",
       "      <td>5941.0</td>\n",
       "      <td>15287.690570</td>\n",
       "      <td>15152.00</td>\n",
       "      <td>1713.598197</td>\n",
       "      <td>0.029835</td>\n",
       "      <td>-1.179982</td>\n",
       "    </tr>\n",
       "  </tbody>\n",
       "</table>\n",
       "</div>"
      ],
      "text/plain": [
       "    attributes      min      max     range          mean   mediana          std        skew       kurtosis\n",
       "0     quantity -80995.0  80995.0  161990.0     12.061303      5.00   248.693064    0.182663   94317.563673\n",
       "1   unit_price      0.0  38970.0   38970.0      3.460471      1.95    69.315077  452.219019  246924.542988\n",
       "2  customer_id  12346.0  18287.0    5941.0  15287.690570  15152.00  1713.598197    0.029835      -1.179982"
      ]
     },
     "execution_count": 42,
     "metadata": {},
     "output_type": "execute_result"
    }
   ],
   "source": [
    "# central tendency - mean, median\n",
    "ct1 = pd.DataFrame( num_attributes.apply( np.mean ) ).T\n",
    "ct2 = pd.DataFrame( num_attributes.apply( np.median ) ).T\n",
    "             \n",
    "# dispersion - desvio padrão, minimo, maximo, range, skew, kurtosis\n",
    "d1 = pd.DataFrame( num_attributes.apply( np.std ) ).T\n",
    "d2 = pd.DataFrame( num_attributes.apply( np.min ) ).T\n",
    "d3 = pd.DataFrame( num_attributes.apply( np.max ) ).T\n",
    "d4 = pd.DataFrame( num_attributes.apply( lambda x: x.max() - x.min() ) ).T\n",
    "d5 = pd.DataFrame( num_attributes.apply( lambda x: x.skew() ) ).T\n",
    "d6 = pd.DataFrame( num_attributes.apply( lambda x: x.kurtosis() ) ).T\n",
    "\n",
    "# concatenate\n",
    "m = pd.concat( [d2, d3, d4, ct1, ct2, d1, d5, d6] ).T.reset_index()\n",
    "m.columns = ['attributes', 'min', 'max', 'range', 'mean', 'mediana', 'std', 'skew', 'kurtosis']\n",
    "m"
   ]
  },
  {
   "cell_type": "markdown",
   "id": "91cca35e",
   "metadata": {},
   "source": [
    "### 1.7.1.1. Numerical Attributs - Investigating"
   ]
  },
  {
   "cell_type": "markdown",
   "id": "34c0860a",
   "metadata": {},
   "source": [
    "Quantity negativa ( pode ser devolução )\n",
    "\n",
    "Preço unitário igual a zero ( pode ser promoção? )"
   ]
  },
  {
   "cell_type": "markdown",
   "id": "08c464cb",
   "metadata": {},
   "source": [
    "### 1.7.2. Categorical Attributs"
   ]
  },
  {
   "cell_type": "code",
   "execution_count": 43,
   "id": "631364b7",
   "metadata": {
    "ExecuteTime": {
     "end_time": "2022-11-27T21:52:29.055004Z",
     "start_time": "2022-11-27T21:52:29.029001Z"
    }
   },
   "outputs": [
    {
     "data": {
      "text/html": [
       "<div>\n",
       "<style scoped>\n",
       "    .dataframe tbody tr th:only-of-type {\n",
       "        vertical-align: middle;\n",
       "    }\n",
       "\n",
       "    .dataframe tbody tr th {\n",
       "        vertical-align: top;\n",
       "    }\n",
       "\n",
       "    .dataframe thead th {\n",
       "        text-align: right;\n",
       "    }\n",
       "</style>\n",
       "<table border=\"1\" class=\"dataframe\">\n",
       "  <thead>\n",
       "    <tr style=\"text-align: right;\">\n",
       "      <th></th>\n",
       "      <th>invoice_no</th>\n",
       "      <th>stock_code</th>\n",
       "      <th>description</th>\n",
       "      <th>country</th>\n",
       "    </tr>\n",
       "  </thead>\n",
       "  <tbody>\n",
       "    <tr>\n",
       "      <th>0</th>\n",
       "      <td>536365</td>\n",
       "      <td>85123A</td>\n",
       "      <td>WHITE HANGING HEART T-LIGHT HOLDER</td>\n",
       "      <td>United Kingdom</td>\n",
       "    </tr>\n",
       "    <tr>\n",
       "      <th>1</th>\n",
       "      <td>536365</td>\n",
       "      <td>71053</td>\n",
       "      <td>WHITE METAL LANTERN</td>\n",
       "      <td>United Kingdom</td>\n",
       "    </tr>\n",
       "    <tr>\n",
       "      <th>2</th>\n",
       "      <td>536365</td>\n",
       "      <td>84406B</td>\n",
       "      <td>CREAM CUPID HEARTS COAT HANGER</td>\n",
       "      <td>United Kingdom</td>\n",
       "    </tr>\n",
       "    <tr>\n",
       "      <th>3</th>\n",
       "      <td>536365</td>\n",
       "      <td>84029G</td>\n",
       "      <td>KNITTED UNION FLAG HOT WATER BOTTLE</td>\n",
       "      <td>United Kingdom</td>\n",
       "    </tr>\n",
       "    <tr>\n",
       "      <th>4</th>\n",
       "      <td>536365</td>\n",
       "      <td>84029E</td>\n",
       "      <td>RED WOOLLY HOTTIE WHITE HEART.</td>\n",
       "      <td>United Kingdom</td>\n",
       "    </tr>\n",
       "  </tbody>\n",
       "</table>\n",
       "</div>"
      ],
      "text/plain": [
       "  invoice_no stock_code                          description         country\n",
       "0     536365     85123A   WHITE HANGING HEART T-LIGHT HOLDER  United Kingdom\n",
       "1     536365      71053                  WHITE METAL LANTERN  United Kingdom\n",
       "2     536365     84406B       CREAM CUPID HEARTS COAT HANGER  United Kingdom\n",
       "3     536365     84029G  KNITTED UNION FLAG HOT WATER BOTTLE  United Kingdom\n",
       "4     536365     84029E       RED WOOLLY HOTTIE WHITE HEART.  United Kingdom"
      ]
     },
     "execution_count": 43,
     "metadata": {},
     "output_type": "execute_result"
    }
   ],
   "source": [
    "cat_attributes.head()"
   ]
  },
  {
   "cell_type": "markdown",
   "id": "1895c2a1",
   "metadata": {},
   "source": [
    "####  Invoice No"
   ]
  },
  {
   "cell_type": "code",
   "execution_count": 51,
   "id": "c7d6665e",
   "metadata": {
    "ExecuteTime": {
     "end_time": "2022-11-27T22:16:21.625389Z",
     "start_time": "2022-11-27T22:16:20.887632Z"
    }
   },
   "outputs": [
    {
     "name": "stdout",
     "output_type": "stream",
     "text": [
      "Total number of invoices: 8905\n",
      "Total number of negative quantity: 8905\n"
     ]
    }
   ],
   "source": [
    "# problema: Temos invoice com letras e numeros\n",
    "#df1['invoice_no'].astype( int )\n",
    "\n",
    "# identficacao: \n",
    "df_letter_invoices = df1.loc[df1['invoice_no'].apply( lambda x: bool( re.search( '[^0-9]+', x ) ) ), :]\n",
    "df_letter_invoices.head()\n",
    "\n",
    "print( 'Total number of invoices: {}'.format( len( df_letter_invoices ) ) )\n",
    "# todos os invoice_no que estão com sujeira com letra o quantity é menor que 0 ou seja valores em negativo s\n",
    "print( 'Total number of negative quantity: {}'.format( len( df_letter_invoices[ df_letter_invoices['quantity'] < 0 ] ) ) )"
   ]
  },
  {
   "cell_type": "markdown",
   "id": "dbf97e4e",
   "metadata": {},
   "source": [
    "#### Stock Code"
   ]
  },
  {
   "cell_type": "code",
   "execution_count": null,
   "id": "62ffa426",
   "metadata": {},
   "outputs": [],
   "source": [
    "# check stock codes only characters\n",
    "df1.loc[df1['stock_code'].apply( lambda x: bool( re.search( '^[a-zA-Z]+$', x ) ) ), 'stock_code'].unique()\n",
    "\n",
    "# Acão:\n",
    "## 1. Remove stock_code in ['POST', 'D', 'M', 'PADS', 'DOT', 'CRUK']"
   ]
  },
  {
   "cell_type": "code",
   "execution_count": null,
   "id": "25f35933",
   "metadata": {},
   "outputs": [],
   "source": []
  },
  {
   "cell_type": "markdown",
   "id": "81102b60",
   "metadata": {},
   "source": [
    "# <font color='red'> 2.0. Filtragem de Variaveis </font>"
   ]
  },
  {
   "cell_type": "code",
   "execution_count": 111,
   "id": "33a08822",
   "metadata": {
    "ExecuteTime": {
     "end_time": "2022-11-27T23:10:04.926070Z",
     "start_time": "2022-11-27T23:10:04.894076Z"
    }
   },
   "outputs": [],
   "source": [
    "df2 = df1.copy()"
   ]
  },
  {
   "cell_type": "code",
   "execution_count": 112,
   "id": "5739efb0",
   "metadata": {
    "ExecuteTime": {
     "end_time": "2022-11-27T23:10:05.086069Z",
     "start_time": "2022-11-27T23:10:05.066073Z"
    }
   },
   "outputs": [
    {
     "data": {
      "text/plain": [
       "invoice_no              object\n",
       "stock_code              object\n",
       "description             object\n",
       "quantity                 int64\n",
       "invoice_date    datetime64[ns]\n",
       "unit_price             float64\n",
       "customer_id              int64\n",
       "country                 object\n",
       "dtype: object"
      ]
     },
     "execution_count": 112,
     "metadata": {},
     "output_type": "execute_result"
    }
   ],
   "source": [
    "df2.dtypes"
   ]
  },
  {
   "cell_type": "code",
   "execution_count": 113,
   "id": "3d08394a",
   "metadata": {
    "ExecuteTime": {
     "end_time": "2022-11-27T23:10:05.512078Z",
     "start_time": "2022-11-27T23:10:05.251080Z"
    }
   },
   "outputs": [],
   "source": [
    "# === Numerical attributes ====\n",
    "df2 = df2.loc[df2['unit_price'] >= 0.04, :]\n",
    "\n",
    "# === Categorical attributes ====\n",
    "df2 = df2[~df2['stock_code'].isin( ['POST', 'D', 'M', 'PADS', 'DOT', 'CRUK'] )]  # todos os valores diferentes do in \n",
    "\n",
    "# description\n",
    "df2 = df2.drop( columns='description', axis=1 )\n",
    "\n",
    "# map \n",
    "df2 = df2[~df2['country'].isin( ['European Community', 'Unspecified' ] ) ]\n",
    "\n",
    "# quantity\n",
    "df2_returns = df2.loc[df1['quantity'] < 0, :]\n",
    "df2_purchases = df2.loc[df1['quantity'] >= 0, :]"
   ]
  },
  {
   "cell_type": "markdown",
   "id": "d421fc89",
   "metadata": {
    "ExecuteTime": {
     "end_time": "2022-11-14T00:00:01.761673Z",
     "start_time": "2022-11-14T00:00:01.755674Z"
    }
   },
   "source": [
    "# <font color='red'> 3.0. Feature Engineering </font>"
   ]
  },
  {
   "cell_type": "code",
   "execution_count": 114,
   "id": "da0ec7ed",
   "metadata": {
    "ExecuteTime": {
     "end_time": "2022-11-27T23:10:05.528079Z",
     "start_time": "2022-11-27T23:10:05.515082Z"
    }
   },
   "outputs": [],
   "source": [
    "df3= df2.copy()"
   ]
  },
  {
   "cell_type": "markdown",
   "id": "92114c76",
   "metadata": {},
   "source": [
    "## 3.1. Feature Creation"
   ]
  },
  {
   "cell_type": "code",
   "execution_count": 133,
   "id": "b2b2ed82",
   "metadata": {
    "ExecuteTime": {
     "end_time": "2022-11-27T23:12:36.256151Z",
     "start_time": "2022-11-27T23:12:36.238151Z"
    }
   },
   "outputs": [
    {
     "data": {
      "text/html": [
       "<div>\n",
       "<style scoped>\n",
       "    .dataframe tbody tr th:only-of-type {\n",
       "        vertical-align: middle;\n",
       "    }\n",
       "\n",
       "    .dataframe tbody tr th {\n",
       "        vertical-align: top;\n",
       "    }\n",
       "\n",
       "    .dataframe thead th {\n",
       "        text-align: right;\n",
       "    }\n",
       "</style>\n",
       "<table border=\"1\" class=\"dataframe\">\n",
       "  <thead>\n",
       "    <tr style=\"text-align: right;\">\n",
       "      <th></th>\n",
       "      <th>invoice_no</th>\n",
       "      <th>stock_code</th>\n",
       "      <th>quantity</th>\n",
       "      <th>invoice_date</th>\n",
       "      <th>unit_price</th>\n",
       "      <th>customer_id</th>\n",
       "      <th>country</th>\n",
       "    </tr>\n",
       "  </thead>\n",
       "  <tbody>\n",
       "    <tr>\n",
       "      <th>0</th>\n",
       "      <td>536365</td>\n",
       "      <td>85123A</td>\n",
       "      <td>6</td>\n",
       "      <td>2016-11-29</td>\n",
       "      <td>2.55</td>\n",
       "      <td>17850</td>\n",
       "      <td>United Kingdom</td>\n",
       "    </tr>\n",
       "    <tr>\n",
       "      <th>1</th>\n",
       "      <td>536365</td>\n",
       "      <td>71053</td>\n",
       "      <td>6</td>\n",
       "      <td>2016-11-29</td>\n",
       "      <td>3.39</td>\n",
       "      <td>17850</td>\n",
       "      <td>United Kingdom</td>\n",
       "    </tr>\n",
       "    <tr>\n",
       "      <th>2</th>\n",
       "      <td>536365</td>\n",
       "      <td>84406B</td>\n",
       "      <td>8</td>\n",
       "      <td>2016-11-29</td>\n",
       "      <td>2.75</td>\n",
       "      <td>17850</td>\n",
       "      <td>United Kingdom</td>\n",
       "    </tr>\n",
       "    <tr>\n",
       "      <th>3</th>\n",
       "      <td>536365</td>\n",
       "      <td>84029G</td>\n",
       "      <td>6</td>\n",
       "      <td>2016-11-29</td>\n",
       "      <td>3.39</td>\n",
       "      <td>17850</td>\n",
       "      <td>United Kingdom</td>\n",
       "    </tr>\n",
       "    <tr>\n",
       "      <th>4</th>\n",
       "      <td>536365</td>\n",
       "      <td>84029E</td>\n",
       "      <td>6</td>\n",
       "      <td>2016-11-29</td>\n",
       "      <td>3.39</td>\n",
       "      <td>17850</td>\n",
       "      <td>United Kingdom</td>\n",
       "    </tr>\n",
       "  </tbody>\n",
       "</table>\n",
       "</div>"
      ],
      "text/plain": [
       "  invoice_no stock_code  quantity invoice_date  unit_price  customer_id         country\n",
       "0     536365     85123A         6   2016-11-29        2.55        17850  United Kingdom\n",
       "1     536365      71053         6   2016-11-29        3.39        17850  United Kingdom\n",
       "2     536365     84406B         8   2016-11-29        2.75        17850  United Kingdom\n",
       "3     536365     84029G         6   2016-11-29        3.39        17850  United Kingdom\n",
       "4     536365     84029E         6   2016-11-29        3.39        17850  United Kingdom"
      ]
     },
     "execution_count": 133,
     "metadata": {},
     "output_type": "execute_result"
    }
   ],
   "source": [
    "df3.head()"
   ]
  },
  {
   "cell_type": "code",
   "execution_count": 134,
   "id": "c08955b9",
   "metadata": {
    "ExecuteTime": {
     "end_time": "2022-11-27T23:12:36.447622Z",
     "start_time": "2022-11-27T23:12:36.415637Z"
    }
   },
   "outputs": [],
   "source": [
    "# data reference\n",
    "df_ref = df3.drop( ['invoice_no', 'stock_code', 'quantity', 'invoice_date', 'unit_price', 'country'], axis=1 ).drop_duplicates( ignore_index=True )"
   ]
  },
  {
   "cell_type": "code",
   "execution_count": 135,
   "id": "94243fdd",
   "metadata": {
    "ExecuteTime": {
     "end_time": "2022-11-27T23:12:36.574281Z",
     "start_time": "2022-11-27T23:12:36.534283Z"
    }
   },
   "outputs": [
    {
     "name": "stderr",
     "output_type": "stream",
     "text": [
      "C:\\Users\\Yves Moura\\.conda\\envs\\DataScienceEmProducao\\lib\\site-packages\\pandas\\core\\indexing.py:1773: SettingWithCopyWarning: \n",
      "A value is trying to be set on a copy of a slice from a DataFrame.\n",
      "Try using .loc[row_indexer,col_indexer] = value instead\n",
      "\n",
      "See the caveats in the documentation: https://pandas.pydata.org/pandas-docs/stable/user_guide/indexing.html#returning-a-view-versus-a-copy\n",
      "  self._setitem_single_column(ilocs[0], value, pi)\n"
     ]
    },
    {
     "data": {
      "text/plain": [
       "customer_id       0\n",
       "gross_revenue    27\n",
       "dtype: int64"
      ]
     },
     "execution_count": 135,
     "metadata": {},
     "output_type": "execute_result"
    }
   ],
   "source": [
    "# Gross Revenue ( Faturamento ) quantity * price\n",
    "df2_purchases.loc[:, 'gross_revenue'] = df2_purchases.loc[:, 'quantity'] * df2_purchases.loc[:, 'unit_price']\n",
    "\n",
    "# Monetary\n",
    "df_monetary = df2_purchases.loc[:, ['customer_id', 'gross_revenue']].groupby( 'customer_id' ).sum().reset_index()\n",
    "df_ref = pd.merge( df_ref, df_monetary, on='customer_id', how='left' )\n",
    "df_ref.isna().sum()"
   ]
  },
  {
   "cell_type": "code",
   "execution_count": 136,
   "id": "ec9ba472",
   "metadata": {
    "ExecuteTime": {
     "end_time": "2022-11-27T23:12:36.844232Z",
     "start_time": "2022-11-27T23:12:36.799234Z"
    }
   },
   "outputs": [
    {
     "data": {
      "text/plain": [
       "customer_id       0\n",
       "gross_revenue    27\n",
       "recency_days     27\n",
       "dtype: int64"
      ]
     },
     "execution_count": 136,
     "metadata": {},
     "output_type": "execute_result"
    }
   ],
   "source": [
    "# Recency - Last day purchase\n",
    "df_recency = df2_purchases.loc[:, ['customer_id', 'invoice_date']].groupby( 'customer_id' ).max().reset_index()\n",
    "df_recency['recency_days'] = ( df2['invoice_date'].max() - df_recency['invoice_date'] ).dt.days\n",
    "df_recency = df_recency[['customer_id', 'recency_days']].copy()\n",
    "df_ref = pd.merge( df_ref, df_recency, on='customer_id', how='left' )\n",
    "df_ref.isna().sum()"
   ]
  },
  {
   "cell_type": "code",
   "execution_count": 137,
   "id": "b7f5c27f",
   "metadata": {
    "ExecuteTime": {
     "end_time": "2022-11-27T23:12:37.047374Z",
     "start_time": "2022-11-27T23:12:36.962376Z"
    }
   },
   "outputs": [
    {
     "data": {
      "text/plain": [
       "customer_id       0\n",
       "gross_revenue    27\n",
       "recency_days     27\n",
       "invoice_no       27\n",
       "dtype: int64"
      ]
     },
     "execution_count": 137,
     "metadata": {},
     "output_type": "execute_result"
    }
   ],
   "source": [
    "# Frequency\n",
    "df_freq = df2_purchases.loc[:, ['customer_id', 'invoice_no']].drop_duplicates().groupby( 'customer_id' ).count().reset_index()\n",
    "df_ref = pd.merge( df_ref, df_freq, on='customer_id', how='left' )\n",
    "df_ref.isna().sum()"
   ]
  },
  {
   "cell_type": "code",
   "execution_count": 138,
   "id": "72e3ef08",
   "metadata": {
    "ExecuteTime": {
     "end_time": "2022-11-27T23:12:37.340719Z",
     "start_time": "2022-11-27T23:12:37.296733Z"
    }
   },
   "outputs": [
    {
     "data": {
      "text/plain": [
       "customer_id       0\n",
       "gross_revenue    27\n",
       "recency_days     27\n",
       "invoice_no       27\n",
       "avg_ticket       27\n",
       "dtype: int64"
      ]
     },
     "execution_count": 138,
     "metadata": {},
     "output_type": "execute_result"
    }
   ],
   "source": [
    "# Avg Ticket\n",
    "df_avg_ticket = df2_purchases.loc[:, ['customer_id', 'gross_revenue']].groupby( 'customer_id' ).mean().reset_index().rename( columns={'gross_revenue':'avg_ticket'} )\n",
    "df_ref = pd.merge( df_ref, df_avg_ticket, on='customer_id', how='left')\n",
    "df_ref.isna().sum()"
   ]
  },
  {
   "cell_type": "code",
   "execution_count": 139,
   "id": "f2ca7f35",
   "metadata": {
    "ExecuteTime": {
     "end_time": "2022-11-27T23:12:37.578942Z",
     "start_time": "2022-11-27T23:12:37.550948Z"
    }
   },
   "outputs": [
    {
     "data": {
      "text/plain": [
       "customer_id       0\n",
       "gross_revenue    27\n",
       "recency_days     27\n",
       "invoice_no       27\n",
       "avg_ticket       27\n",
       "returns           0\n",
       "dtype: int64"
      ]
     },
     "execution_count": 139,
     "metadata": {},
     "output_type": "execute_result"
    }
   ],
   "source": [
    "# Number of Returns\n",
    "df_returns = df2_returns[['customer_id', 'quantity']].groupby( 'customer_id' ).sum().reset_index().rename( columns={'quantity':'returns'} )\n",
    "df_returns['returns'] = df_returns['returns'] * -1\n",
    "df_ref = pd.merge( df_ref, df_returns, how='left', on='customer_id' )\n",
    "df_ref.loc[df_ref['returns'].isna(), 'returns'] = 0\n",
    "df_ref.isna().sum()"
   ]
  },
  {
   "cell_type": "code",
   "execution_count": 140,
   "id": "d68c29d6",
   "metadata": {
    "ExecuteTime": {
     "end_time": "2022-11-27T23:12:37.751092Z",
     "start_time": "2022-11-27T23:12:37.720089Z"
    }
   },
   "outputs": [
    {
     "data": {
      "text/html": [
       "<div>\n",
       "<style scoped>\n",
       "    .dataframe tbody tr th:only-of-type {\n",
       "        vertical-align: middle;\n",
       "    }\n",
       "\n",
       "    .dataframe tbody tr th {\n",
       "        vertical-align: top;\n",
       "    }\n",
       "\n",
       "    .dataframe thead th {\n",
       "        text-align: right;\n",
       "    }\n",
       "</style>\n",
       "<table border=\"1\" class=\"dataframe\">\n",
       "  <thead>\n",
       "    <tr style=\"text-align: right;\">\n",
       "      <th></th>\n",
       "      <th>customer_id</th>\n",
       "      <th>gross_revenue</th>\n",
       "      <th>recency_days</th>\n",
       "      <th>invoice_no</th>\n",
       "      <th>avg_ticket</th>\n",
       "      <th>returns</th>\n",
       "    </tr>\n",
       "  </thead>\n",
       "  <tbody>\n",
       "    <tr>\n",
       "      <th>0</th>\n",
       "      <td>17850</td>\n",
       "      <td>5391.21</td>\n",
       "      <td>372.0</td>\n",
       "      <td>34.0</td>\n",
       "      <td>18.152222</td>\n",
       "      <td>40.0</td>\n",
       "    </tr>\n",
       "    <tr>\n",
       "      <th>1</th>\n",
       "      <td>13047</td>\n",
       "      <td>3232.59</td>\n",
       "      <td>56.0</td>\n",
       "      <td>9.0</td>\n",
       "      <td>18.904035</td>\n",
       "      <td>35.0</td>\n",
       "    </tr>\n",
       "    <tr>\n",
       "      <th>2</th>\n",
       "      <td>12583</td>\n",
       "      <td>6705.38</td>\n",
       "      <td>2.0</td>\n",
       "      <td>15.0</td>\n",
       "      <td>28.902500</td>\n",
       "      <td>50.0</td>\n",
       "    </tr>\n",
       "    <tr>\n",
       "      <th>3</th>\n",
       "      <td>13748</td>\n",
       "      <td>948.25</td>\n",
       "      <td>95.0</td>\n",
       "      <td>5.0</td>\n",
       "      <td>33.866071</td>\n",
       "      <td>0.0</td>\n",
       "    </tr>\n",
       "    <tr>\n",
       "      <th>4</th>\n",
       "      <td>15100</td>\n",
       "      <td>876.00</td>\n",
       "      <td>333.0</td>\n",
       "      <td>3.0</td>\n",
       "      <td>292.000000</td>\n",
       "      <td>22.0</td>\n",
       "    </tr>\n",
       "  </tbody>\n",
       "</table>\n",
       "</div>"
      ],
      "text/plain": [
       "   customer_id  gross_revenue  recency_days  invoice_no  avg_ticket  returns\n",
       "0        17850        5391.21         372.0        34.0   18.152222     40.0\n",
       "1        13047        3232.59          56.0         9.0   18.904035     35.0\n",
       "2        12583        6705.38           2.0        15.0   28.902500     50.0\n",
       "3        13748         948.25          95.0         5.0   33.866071      0.0\n",
       "4        15100         876.00         333.0         3.0  292.000000     22.0"
      ]
     },
     "execution_count": 140,
     "metadata": {},
     "output_type": "execute_result"
    }
   ],
   "source": [
    "df_ref.head()"
   ]
  },
  {
   "cell_type": "markdown",
   "id": "e0e32d16",
   "metadata": {},
   "source": [
    "# <font color='red'> 4.0. EDA </font>"
   ]
  },
  {
   "cell_type": "code",
   "execution_count": 141,
   "id": "175102ae",
   "metadata": {
    "ExecuteTime": {
     "end_time": "2022-11-27T23:12:38.239030Z",
     "start_time": "2022-11-27T23:12:38.225034Z"
    }
   },
   "outputs": [],
   "source": [
    "df4 = df_ref.dropna().copy()"
   ]
  },
  {
   "cell_type": "code",
   "execution_count": null,
   "id": "71ce950f",
   "metadata": {
    "ExecuteTime": {
     "end_time": "2022-11-27T23:11:29.534604Z",
     "start_time": "2022-11-27T23:11:29.514466Z"
    }
   },
   "outputs": [],
   "source": []
  },
  {
   "cell_type": "markdown",
   "id": "5f9eccb7",
   "metadata": {},
   "source": [
    "# <font color='red'> 5.0. Data Preparation </font>"
   ]
  },
  {
   "cell_type": "code",
   "execution_count": 142,
   "id": "40d5cace",
   "metadata": {
    "ExecuteTime": {
     "end_time": "2022-11-27T23:12:39.103950Z",
     "start_time": "2022-11-27T23:12:39.083953Z"
    }
   },
   "outputs": [],
   "source": [
    "df5 = df4.copy()"
   ]
  },
  {
   "cell_type": "code",
   "execution_count": 143,
   "id": "7368027c",
   "metadata": {
    "ExecuteTime": {
     "end_time": "2022-11-27T23:12:39.544736Z",
     "start_time": "2022-11-27T23:12:39.518728Z"
    }
   },
   "outputs": [
    {
     "data": {
      "text/html": [
       "<div>\n",
       "<style scoped>\n",
       "    .dataframe tbody tr th:only-of-type {\n",
       "        vertical-align: middle;\n",
       "    }\n",
       "\n",
       "    .dataframe tbody tr th {\n",
       "        vertical-align: top;\n",
       "    }\n",
       "\n",
       "    .dataframe thead th {\n",
       "        text-align: right;\n",
       "    }\n",
       "</style>\n",
       "<table border=\"1\" class=\"dataframe\">\n",
       "  <thead>\n",
       "    <tr style=\"text-align: right;\">\n",
       "      <th></th>\n",
       "      <th>customer_id</th>\n",
       "      <th>gross_revenue</th>\n",
       "      <th>recency_days</th>\n",
       "      <th>invoice_no</th>\n",
       "      <th>avg_ticket</th>\n",
       "      <th>returns</th>\n",
       "    </tr>\n",
       "  </thead>\n",
       "  <tbody>\n",
       "    <tr>\n",
       "      <th>0</th>\n",
       "      <td>17850</td>\n",
       "      <td>5391.21</td>\n",
       "      <td>372.0</td>\n",
       "      <td>34.0</td>\n",
       "      <td>18.152222</td>\n",
       "      <td>40.0</td>\n",
       "    </tr>\n",
       "    <tr>\n",
       "      <th>1</th>\n",
       "      <td>13047</td>\n",
       "      <td>3232.59</td>\n",
       "      <td>56.0</td>\n",
       "      <td>9.0</td>\n",
       "      <td>18.904035</td>\n",
       "      <td>35.0</td>\n",
       "    </tr>\n",
       "    <tr>\n",
       "      <th>2</th>\n",
       "      <td>12583</td>\n",
       "      <td>6705.38</td>\n",
       "      <td>2.0</td>\n",
       "      <td>15.0</td>\n",
       "      <td>28.902500</td>\n",
       "      <td>50.0</td>\n",
       "    </tr>\n",
       "    <tr>\n",
       "      <th>3</th>\n",
       "      <td>13748</td>\n",
       "      <td>948.25</td>\n",
       "      <td>95.0</td>\n",
       "      <td>5.0</td>\n",
       "      <td>33.866071</td>\n",
       "      <td>0.0</td>\n",
       "    </tr>\n",
       "    <tr>\n",
       "      <th>4</th>\n",
       "      <td>15100</td>\n",
       "      <td>876.00</td>\n",
       "      <td>333.0</td>\n",
       "      <td>3.0</td>\n",
       "      <td>292.000000</td>\n",
       "      <td>22.0</td>\n",
       "    </tr>\n",
       "  </tbody>\n",
       "</table>\n",
       "</div>"
      ],
      "text/plain": [
       "   customer_id  gross_revenue  recency_days  invoice_no  avg_ticket  returns\n",
       "0        17850        5391.21         372.0        34.0   18.152222     40.0\n",
       "1        13047        3232.59          56.0         9.0   18.904035     35.0\n",
       "2        12583        6705.38           2.0        15.0   28.902500     50.0\n",
       "3        13748         948.25          95.0         5.0   33.866071      0.0\n",
       "4        15100         876.00         333.0         3.0  292.000000     22.0"
      ]
     },
     "execution_count": 143,
     "metadata": {},
     "output_type": "execute_result"
    }
   ],
   "source": [
    "df5.head()"
   ]
  },
  {
   "cell_type": "code",
   "execution_count": 167,
   "id": "81b6d2c6",
   "metadata": {
    "ExecuteTime": {
     "end_time": "2022-11-28T00:09:48.667526Z",
     "start_time": "2022-11-28T00:09:48.600736Z"
    }
   },
   "outputs": [],
   "source": [
    "## Standard Scalaer\n",
    "ss = pp.MinMaxScaler()\n",
    "\n",
    "df5['gross_revenue'] = ss.fit_transform( df5[['gross_revenue']] )\n",
    "df5['recency_days'] = ss.fit_transform( df5[['recency_days']] )\n",
    "df5['invoice_no'] = ss.fit_transform( df5[['invoice_no']] )\n",
    "df5['avg_ticket'] = ss.fit_transform( df5[['avg_ticket']] )\n",
    "df5['returns'] = ss.fit_transform( df5[['returns']] )\n"
   ]
  },
  {
   "cell_type": "code",
   "execution_count": 168,
   "id": "a9d657db",
   "metadata": {
    "ExecuteTime": {
     "end_time": "2022-11-28T00:09:48.811522Z",
     "start_time": "2022-11-28T00:09:48.791521Z"
    }
   },
   "outputs": [
    {
     "data": {
      "text/html": [
       "<div>\n",
       "<style scoped>\n",
       "    .dataframe tbody tr th:only-of-type {\n",
       "        vertical-align: middle;\n",
       "    }\n",
       "\n",
       "    .dataframe tbody tr th {\n",
       "        vertical-align: top;\n",
       "    }\n",
       "\n",
       "    .dataframe thead th {\n",
       "        text-align: right;\n",
       "    }\n",
       "</style>\n",
       "<table border=\"1\" class=\"dataframe\">\n",
       "  <thead>\n",
       "    <tr style=\"text-align: right;\">\n",
       "      <th></th>\n",
       "      <th>customer_id</th>\n",
       "      <th>gross_revenue</th>\n",
       "      <th>recency_days</th>\n",
       "      <th>invoice_no</th>\n",
       "      <th>avg_ticket</th>\n",
       "      <th>returns</th>\n",
       "    </tr>\n",
       "  </thead>\n",
       "  <tbody>\n",
       "    <tr>\n",
       "      <th>0</th>\n",
       "      <td>17850</td>\n",
       "      <td>0.019301</td>\n",
       "      <td>0.997319</td>\n",
       "      <td>0.160976</td>\n",
       "      <td>0.000208</td>\n",
       "      <td>0.000494</td>\n",
       "    </tr>\n",
       "    <tr>\n",
       "      <th>1</th>\n",
       "      <td>13047</td>\n",
       "      <td>0.011567</td>\n",
       "      <td>0.150134</td>\n",
       "      <td>0.039024</td>\n",
       "      <td>0.000218</td>\n",
       "      <td>0.000432</td>\n",
       "    </tr>\n",
       "    <tr>\n",
       "      <th>2</th>\n",
       "      <td>12583</td>\n",
       "      <td>0.024009</td>\n",
       "      <td>0.005362</td>\n",
       "      <td>0.068293</td>\n",
       "      <td>0.000347</td>\n",
       "      <td>0.000617</td>\n",
       "    </tr>\n",
       "    <tr>\n",
       "      <th>3</th>\n",
       "      <td>13748</td>\n",
       "      <td>0.003384</td>\n",
       "      <td>0.254692</td>\n",
       "      <td>0.019512</td>\n",
       "      <td>0.000412</td>\n",
       "      <td>0.000000</td>\n",
       "    </tr>\n",
       "    <tr>\n",
       "      <th>4</th>\n",
       "      <td>15100</td>\n",
       "      <td>0.003125</td>\n",
       "      <td>0.892761</td>\n",
       "      <td>0.009756</td>\n",
       "      <td>0.003756</td>\n",
       "      <td>0.000272</td>\n",
       "    </tr>\n",
       "  </tbody>\n",
       "</table>\n",
       "</div>"
      ],
      "text/plain": [
       "   customer_id  gross_revenue  recency_days  invoice_no  avg_ticket   returns\n",
       "0        17850       0.019301      0.997319    0.160976    0.000208  0.000494\n",
       "1        13047       0.011567      0.150134    0.039024    0.000218  0.000432\n",
       "2        12583       0.024009      0.005362    0.068293    0.000347  0.000617\n",
       "3        13748       0.003384      0.254692    0.019512    0.000412  0.000000\n",
       "4        15100       0.003125      0.892761    0.009756    0.003756  0.000272"
      ]
     },
     "execution_count": 168,
     "metadata": {},
     "output_type": "execute_result"
    }
   ],
   "source": [
    "df5.head()"
   ]
  },
  {
   "cell_type": "code",
   "execution_count": null,
   "id": "de2e3d89",
   "metadata": {},
   "outputs": [],
   "source": []
  },
  {
   "cell_type": "code",
   "execution_count": null,
   "id": "186d6037",
   "metadata": {},
   "outputs": [],
   "source": []
  },
  {
   "cell_type": "markdown",
   "id": "086362c5",
   "metadata": {
    "ExecuteTime": {
     "end_time": "2022-11-14T00:02:08.052759Z",
     "start_time": "2022-11-14T00:02:08.038773Z"
    }
   },
   "source": [
    "# <font color='red'> 6.0. Feature Selection </font>"
   ]
  },
  {
   "cell_type": "code",
   "execution_count": 169,
   "id": "1634bdf8",
   "metadata": {
    "ExecuteTime": {
     "end_time": "2022-11-28T00:09:49.502459Z",
     "start_time": "2022-11-28T00:09:49.488451Z"
    }
   },
   "outputs": [],
   "source": [
    "df6 = df5.copy()"
   ]
  },
  {
   "cell_type": "markdown",
   "id": "d3dd7a5c",
   "metadata": {
    "ExecuteTime": {
     "end_time": "2022-11-14T00:02:51.218004Z",
     "start_time": "2022-11-14T00:02:51.198010Z"
    }
   },
   "source": [
    "# <font color='red'> 7.0. Hyperparameter Fine-Tunning</font>"
   ]
  },
  {
   "cell_type": "code",
   "execution_count": 170,
   "id": "485bb702",
   "metadata": {
    "ExecuteTime": {
     "end_time": "2022-11-28T00:09:49.877469Z",
     "start_time": "2022-11-28T00:09:49.853566Z"
    }
   },
   "outputs": [],
   "source": [
    "X = df6.drop( columns=['customer_id'])"
   ]
  },
  {
   "cell_type": "code",
   "execution_count": 171,
   "id": "a40cedd3",
   "metadata": {
    "ExecuteTime": {
     "end_time": "2022-11-28T00:09:50.029765Z",
     "start_time": "2022-11-28T00:09:50.018469Z"
    }
   },
   "outputs": [],
   "source": [
    "clusters = [2,3,4,5,6,7]"
   ]
  },
  {
   "cell_type": "markdown",
   "id": "25ff2bd3",
   "metadata": {},
   "source": [
    "## 7.1. Within-Clusteer Sum of Square (WSS)"
   ]
  },
  {
   "cell_type": "code",
   "execution_count": 172,
   "id": "af519ec3",
   "metadata": {
    "ExecuteTime": {
     "end_time": "2022-11-28T00:09:51.687438Z",
     "start_time": "2022-11-28T00:09:50.728507Z"
    },
    "cell_style": "center",
    "hide_input": false
   },
   "outputs": [
    {
     "data": {
      "image/png": "[encoded data removed]",
      "text/plain": [
       "<Figure size 576x396 with 1 Axes>"
      ]
     },
     "metadata": {},
     "output_type": "display_data"
    }
   ],
   "source": [
    "wss = []\n",
    "for k in clusters:\n",
    "    # model definition  \n",
    "    kmeans = c.KMeans( init='random', n_clusters=k, n_init=10, max_iter=300 )\n",
    "    # model training \n",
    "    kmeans.fit( X )\n",
    "    # validation \n",
    "    wss.append(kmeans.inertia_)\n",
    "    \n",
    "# plot wss - ELBOW METHOD \n",
    "# tenho que escolher o lugar que o ponto mais se desloca e testar para saber o cluster para utilizar nesse exemplo foi 3 e 5\n",
    "plt.plot (clusters, wss,linestyle='--', marker='o', color='b')\n",
    "plt.xlabel ( 'K');\n",
    "plt.ylabel ( 'Within-Cluster Sum of Square')\n",
    "plt.title( 'WSS VS k');"
   ]
  },
  {
   "cell_type": "code",
   "execution_count": 173,
   "id": "322193c2",
   "metadata": {
    "ExecuteTime": {
     "end_time": "2022-11-28T00:09:51.703525Z",
     "start_time": "2022-11-28T00:09:51.691438Z"
    },
    "cell_style": "center",
    "hide_input": false
   },
   "outputs": [],
   "source": [
    "# from yellowbrick.cluster import KElbowVisualizer\n",
    "\n",
    "# kmeans = KElbowVisualizer( c.KMeans(), k=clusters, timinings=False)\n",
    "# kmeans.fit( X )\n",
    "# kmeans.show()"
   ]
  },
  {
   "cell_type": "markdown",
   "id": "4accb973",
   "metadata": {
    "hide_input": true
   },
   "source": [
    "## 7.2. Sillhouette Score"
   ]
  },
  {
   "cell_type": "code",
   "execution_count": 174,
   "id": "a40bb3ce",
   "metadata": {
    "ExecuteTime": {
     "end_time": "2022-11-28T00:09:51.719528Z",
     "start_time": "2022-11-28T00:09:51.707530Z"
    },
    "cell_style": "center",
    "hide_input": false
   },
   "outputs": [],
   "source": [
    "# from yellowbrick.cluster import KElbowVisualizer\n",
    "\n",
    "# kmeans = KElbowVisualizer( c.KMeans(), k=clusters, metric='silhouette', timinings=False)\n",
    "# kmeans.fit( X )\n",
    "# kmeans.show()\n",
    "# problema com modulo"
   ]
  },
  {
   "cell_type": "markdown",
   "id": "74dd5977",
   "metadata": {},
   "source": [
    "## 7.3. Silhouette Analysis"
   ]
  },
  {
   "cell_type": "code",
   "execution_count": 175,
   "id": "3604a2cf",
   "metadata": {
    "ExecuteTime": {
     "end_time": "2022-11-28T00:09:51.767449Z",
     "start_time": "2022-11-28T00:09:51.754450Z"
    }
   },
   "outputs": [],
   "source": [
    "# fig, ax = plt.subplot (3,2,figsize(25,18))\n",
    "\n",
    "# for k in clusters:\n",
    "#     km = c.KMeans (n_cluster=k, init='random', n_init=10,max_iter=100, random_state=42)\n",
    "#     q,mod = divmod( k, 2) #configurando pra colocar os dados em cada figura > fazendo divisão por 0 pegando o primeiro numero da lista\n",
    "#     visualizer = SilhouetteVisualizer( km, colors='yellowbrick', ax = ax[q-1][mod])\n",
    "#     visualizer.fit(X)\n",
    "#     visualizer.finalize()"
   ]
  },
  {
   "cell_type": "markdown",
   "id": "363f1eec",
   "metadata": {
    "ExecuteTime": {
     "end_time": "2022-11-14T00:03:16.360482Z",
     "start_time": "2022-11-14T00:03:16.348484Z"
    }
   },
   "source": [
    "# <font color='red'> 8.0. Model Training </font>"
   ]
  },
  {
   "cell_type": "markdown",
   "id": "d01a6691",
   "metadata": {
    "ExecuteTime": {
     "end_time": "2022-11-26T00:08:39.656278Z",
     "start_time": "2022-11-26T00:08:39.641290Z"
    }
   },
   "source": [
    "## 8.1. K-Means"
   ]
  },
  {
   "cell_type": "code",
   "execution_count": 176,
   "id": "7efcaac5",
   "metadata": {
    "ExecuteTime": {
     "end_time": "2022-11-28T00:09:55.268101Z",
     "start_time": "2022-11-28T00:09:54.997103Z"
    }
   },
   "outputs": [],
   "source": [
    "# model definition\n",
    "k = 6 #valor de cluster do kmeans\n",
    "kmeans= c.KMeans( init= 'random', n_clusters=k, n_init=10, max_iter=300, random_state=42) # init='random' modo aleatorio porem igual sempre q rodar\n",
    "\n",
    "#model training \n",
    "kmeans.fit( X )\n",
    "\n",
    "# clustering \n",
    "labels = kmeans.labels_"
   ]
  },
  {
   "cell_type": "markdown",
   "id": "22f9e955",
   "metadata": {},
   "source": [
    "## 8.2. Cluster Validation"
   ]
  },
  {
   "cell_type": "code",
   "execution_count": 177,
   "id": "bb059f52",
   "metadata": {
    "ExecuteTime": {
     "end_time": "2022-11-28T00:10:01.399026Z",
     "start_time": "2022-11-28T00:10:01.000590Z"
    }
   },
   "outputs": [
    {
     "name": "stdout",
     "output_type": "stream",
     "text": [
      "WSS value 19.477648271397456\n",
      "SS value: 0.5584290476610814\n"
     ]
    }
   ],
   "source": [
    "## WSS ( Within-cluster sum of square)\n",
    "print( 'WSS value {}'.format( kmeans.inertia_))\n",
    "\n",
    "## SS ( Silhouette Score)\n",
    "print( 'SS value: {}'.format(m.silhouette_score ( X, labels, metric='euclidean')))\n"
   ]
  },
  {
   "cell_type": "markdown",
   "id": "dbe37c9c",
   "metadata": {},
   "source": [
    "# <font color='red'> 9.0. Cluster Analysis </font>"
   ]
  },
  {
   "cell_type": "code",
   "execution_count": 178,
   "id": "99076dd8",
   "metadata": {
    "ExecuteTime": {
     "end_time": "2022-11-28T00:10:01.537282Z",
     "start_time": "2022-11-28T00:10:01.515047Z"
    }
   },
   "outputs": [
    {
     "data": {
      "text/html": [
       "<div>\n",
       "<style scoped>\n",
       "    .dataframe tbody tr th:only-of-type {\n",
       "        vertical-align: middle;\n",
       "    }\n",
       "\n",
       "    .dataframe tbody tr th {\n",
       "        vertical-align: top;\n",
       "    }\n",
       "\n",
       "    .dataframe thead th {\n",
       "        text-align: right;\n",
       "    }\n",
       "</style>\n",
       "<table border=\"1\" class=\"dataframe\">\n",
       "  <thead>\n",
       "    <tr style=\"text-align: right;\">\n",
       "      <th></th>\n",
       "      <th>customer_id</th>\n",
       "      <th>gross_revenue</th>\n",
       "      <th>recency_days</th>\n",
       "      <th>invoice_no</th>\n",
       "      <th>avg_ticket</th>\n",
       "      <th>returns</th>\n",
       "      <th>cluster</th>\n",
       "    </tr>\n",
       "  </thead>\n",
       "  <tbody>\n",
       "    <tr>\n",
       "      <th>0</th>\n",
       "      <td>17850</td>\n",
       "      <td>0.019301</td>\n",
       "      <td>0.997319</td>\n",
       "      <td>0.160976</td>\n",
       "      <td>0.000208</td>\n",
       "      <td>0.000494</td>\n",
       "      <td>1</td>\n",
       "    </tr>\n",
       "    <tr>\n",
       "      <th>1</th>\n",
       "      <td>13047</td>\n",
       "      <td>0.011567</td>\n",
       "      <td>0.150134</td>\n",
       "      <td>0.039024</td>\n",
       "      <td>0.000218</td>\n",
       "      <td>0.000432</td>\n",
       "      <td>5</td>\n",
       "    </tr>\n",
       "    <tr>\n",
       "      <th>2</th>\n",
       "      <td>12583</td>\n",
       "      <td>0.024009</td>\n",
       "      <td>0.005362</td>\n",
       "      <td>0.068293</td>\n",
       "      <td>0.000347</td>\n",
       "      <td>0.000617</td>\n",
       "      <td>4</td>\n",
       "    </tr>\n",
       "    <tr>\n",
       "      <th>3</th>\n",
       "      <td>13748</td>\n",
       "      <td>0.003384</td>\n",
       "      <td>0.254692</td>\n",
       "      <td>0.019512</td>\n",
       "      <td>0.000412</td>\n",
       "      <td>0.000000</td>\n",
       "      <td>5</td>\n",
       "    </tr>\n",
       "    <tr>\n",
       "      <th>4</th>\n",
       "      <td>15100</td>\n",
       "      <td>0.003125</td>\n",
       "      <td>0.892761</td>\n",
       "      <td>0.009756</td>\n",
       "      <td>0.003756</td>\n",
       "      <td>0.000272</td>\n",
       "      <td>1</td>\n",
       "    </tr>\n",
       "  </tbody>\n",
       "</table>\n",
       "</div>"
      ],
      "text/plain": [
       "   customer_id  gross_revenue  recency_days  invoice_no  avg_ticket   returns  cluster\n",
       "0        17850       0.019301      0.997319    0.160976    0.000208  0.000494        1\n",
       "1        13047       0.011567      0.150134    0.039024    0.000218  0.000432        5\n",
       "2        12583       0.024009      0.005362    0.068293    0.000347  0.000617        4\n",
       "3        13748       0.003384      0.254692    0.019512    0.000412  0.000000        5\n",
       "4        15100       0.003125      0.892761    0.009756    0.003756  0.000272        1"
      ]
     },
     "execution_count": 178,
     "metadata": {},
     "output_type": "execute_result"
    }
   ],
   "source": [
    "df9 = df6.copy()\n",
    "df9['cluster'] = labels\n",
    "df9.head()"
   ]
  },
  {
   "cell_type": "markdown",
   "id": "e1b21ceb",
   "metadata": {
    "ExecuteTime": {
     "end_time": "2022-11-26T00:17:33.757222Z",
     "start_time": "2022-11-26T00:17:33.740228Z"
    }
   },
   "source": [
    "## 9.1. Visualization Inspection"
   ]
  },
  {
   "cell_type": "code",
   "execution_count": 179,
   "id": "19a7b142",
   "metadata": {
    "ExecuteTime": {
     "end_time": "2022-11-28T00:10:03.622522Z",
     "start_time": "2022-11-28T00:10:02.820867Z"
    }
   },
   "outputs": [
    {
     "name": "stderr",
     "output_type": "stream",
     "text": [
      "C:\\Users\\Yves Moura\\.conda\\envs\\DataScienceEmProducao\\lib\\site-packages\\sklearn\\base.py:451: UserWarning: X does not have valid feature names, but KMeans was fitted with feature names\n",
      "  \"X does not have valid feature names, but\"\n"
     ]
    },
    {
     "ename": "YellowbrickValueError",
     "evalue": "'yeloowbrick' is not a valid value for name; supported values are 'Accent', 'Accent_r', 'Blues', 'Blues_r', 'BrBG', 'BrBG_r', 'BuGn', 'BuGn_r', 'BuPu', 'BuPu_r', 'CMRmap', 'CMRmap_r', 'Dark2', 'Dark2_r', 'GnBu', 'GnBu_r', 'Greens', 'Greens_r', 'Greys', 'Greys_r', 'OrRd', 'OrRd_r', 'Oranges', 'Oranges_r', 'PRGn', 'PRGn_r', 'Paired', 'Paired_r', 'Pastel1', 'Pastel1_r', 'Pastel2', 'Pastel2_r', 'PiYG', 'PiYG_r', 'PuBu', 'PuBuGn', 'PuBuGn_r', 'PuBu_r', 'PuOr', 'PuOr_r', 'PuRd', 'PuRd_r', 'Purples', 'Purples_r', 'RdBu', 'RdBu_r', 'RdGy', 'RdGy_r', 'RdPu', 'RdPu_r', 'RdYlBu', 'RdYlBu_r', 'RdYlGn', 'RdYlGn_r', 'Reds', 'Reds_r', 'Set1', 'Set1_r', 'Set2', 'Set2_r', 'Set3', 'Set3_r', 'Spectral', 'Spectral_r', 'Wistia', 'Wistia_r', 'YlGn', 'YlGnBu', 'YlGnBu_r', 'YlGn_r', 'YlOrBr', 'YlOrBr_r', 'YlOrRd', 'YlOrRd_r', 'afmhot', 'afmhot_r', 'autumn', 'autumn_r', 'binary', 'binary_r', 'bone', 'bone_r', 'brg', 'brg_r', 'bwr', 'bwr_r', 'cividis', 'cividis_r', 'cool', 'cool_r', 'coolwarm', 'coolwarm_r', 'copper', 'copper_r', 'crest', 'crest_r', 'cubehelix', 'cubehelix_r', 'flag', 'flag_r', 'flare', 'flare_r', 'gist_earth', 'gist_earth_r', 'gist_gray', 'gist_gray_r', 'gist_heat', 'gist_heat_r', 'gist_ncar', 'gist_ncar_r', 'gist_rainbow', 'gist_rainbow_r', 'gist_stern', 'gist_stern_r', 'gist_yarg', 'gist_yarg_r', 'gnuplot', 'gnuplot2', 'gnuplot2_r', 'gnuplot_r', 'gray', 'gray_r', 'hot', 'hot_r', 'hsv', 'hsv_r', 'icefire', 'icefire_r', 'inferno', 'inferno_r', 'jet', 'jet_r', 'magma', 'magma_r', 'mako', 'mako_r', 'nipy_spectral', 'nipy_spectral_r', 'ocean', 'ocean_r', 'pink', 'pink_r', 'plasma', 'plasma_r', 'prism', 'prism_r', 'rainbow', 'rainbow_r', 'rocket', 'rocket_r', 'seismic', 'seismic_r', 'spring', 'spring_r', 'summer', 'summer_r', 'tab10', 'tab10_r', 'tab20', 'tab20_r', 'tab20b', 'tab20b_r', 'tab20c', 'tab20c_r', 'terrain', 'terrain_r', 'turbo', 'turbo_r', 'twilight', 'twilight_r', 'twilight_shifted', 'twilight_shifted_r', 'viridis', 'viridis_r', 'vlag', 'vlag_r', 'winter', 'winter_r'",
     "output_type": "error",
     "traceback": [
      "\u001b[1;31m---------------------------------------------------------------------------\u001b[0m",
      "\u001b[1;31mValueError\u001b[0m                                Traceback (most recent call last)",
      "\u001b[1;32m~\\.conda\\envs\\DataScienceEmProducao\\lib\\site-packages\\yellowbrick\\style\\colors.py\u001b[0m in \u001b[0;36mresolve_colors\u001b[1;34m(n_colors, colormap, colors)\u001b[0m\n\u001b[0;32m    103\u001b[0m \u001b[1;33m\u001b[0m\u001b[0m\n\u001b[1;32m--> 104\u001b[1;33m                     \u001b[0mcolormap\u001b[0m \u001b[1;33m=\u001b[0m \u001b[0mcm\u001b[0m\u001b[1;33m.\u001b[0m\u001b[0mget_cmap\u001b[0m\u001b[1;33m(\u001b[0m\u001b[0mcolormap\u001b[0m\u001b[1;33m)\u001b[0m\u001b[1;33m\u001b[0m\u001b[1;33m\u001b[0m\u001b[0m\n\u001b[0m\u001b[0;32m    105\u001b[0m                     \u001b[0mn_colors\u001b[0m \u001b[1;33m=\u001b[0m \u001b[0mn_colors\u001b[0m \u001b[1;32mor\u001b[0m \u001b[0mlen\u001b[0m\u001b[1;33m(\u001b[0m\u001b[0mget_color_cycle\u001b[0m\u001b[1;33m(\u001b[0m\u001b[1;33m)\u001b[0m\u001b[1;33m)\u001b[0m\u001b[1;33m\u001b[0m\u001b[1;33m\u001b[0m\u001b[0m\n",
      "\u001b[1;32m~\\.conda\\envs\\DataScienceEmProducao\\lib\\site-packages\\matplotlib\\cm.py\u001b[0m in \u001b[0;36mget_cmap\u001b[1;34m(name, lut)\u001b[0m\n\u001b[0;32m    285\u001b[0m         \u001b[1;32mreturn\u001b[0m \u001b[0mname\u001b[0m\u001b[1;33m\u001b[0m\u001b[1;33m\u001b[0m\u001b[0m\n\u001b[1;32m--> 286\u001b[1;33m     \u001b[0m_api\u001b[0m\u001b[1;33m.\u001b[0m\u001b[0mcheck_in_list\u001b[0m\u001b[1;33m(\u001b[0m\u001b[0msorted\u001b[0m\u001b[1;33m(\u001b[0m\u001b[0m_cmap_registry\u001b[0m\u001b[1;33m)\u001b[0m\u001b[1;33m,\u001b[0m \u001b[0mname\u001b[0m\u001b[1;33m=\u001b[0m\u001b[0mname\u001b[0m\u001b[1;33m)\u001b[0m\u001b[1;33m\u001b[0m\u001b[1;33m\u001b[0m\u001b[0m\n\u001b[0m\u001b[0;32m    287\u001b[0m     \u001b[1;32mif\u001b[0m \u001b[0mlut\u001b[0m \u001b[1;32mis\u001b[0m \u001b[1;32mNone\u001b[0m\u001b[1;33m:\u001b[0m\u001b[1;33m\u001b[0m\u001b[1;33m\u001b[0m\u001b[0m\n",
      "\u001b[1;32m~\\.conda\\envs\\DataScienceEmProducao\\lib\\site-packages\\matplotlib\\_api\\__init__.py\u001b[0m in \u001b[0;36mcheck_in_list\u001b[1;34m(_values, _print_supported_values, **kwargs)\u001b[0m\n\u001b[0;32m    128\u001b[0m                 \u001b[0mmsg\u001b[0m \u001b[1;33m+=\u001b[0m \u001b[1;34mf\"; supported values are {', '.join(map(repr, values))}\"\u001b[0m\u001b[1;33m\u001b[0m\u001b[1;33m\u001b[0m\u001b[0m\n\u001b[1;32m--> 129\u001b[1;33m             \u001b[1;32mraise\u001b[0m \u001b[0mValueError\u001b[0m\u001b[1;33m(\u001b[0m\u001b[0mmsg\u001b[0m\u001b[1;33m)\u001b[0m\u001b[1;33m\u001b[0m\u001b[1;33m\u001b[0m\u001b[0m\n\u001b[0m\u001b[0;32m    130\u001b[0m \u001b[1;33m\u001b[0m\u001b[0m\n",
      "\u001b[1;31mValueError\u001b[0m: 'yeloowbrick' is not a valid value for name; supported values are 'Accent', 'Accent_r', 'Blues', 'Blues_r', 'BrBG', 'BrBG_r', 'BuGn', 'BuGn_r', 'BuPu', 'BuPu_r', 'CMRmap', 'CMRmap_r', 'Dark2', 'Dark2_r', 'GnBu', 'GnBu_r', 'Greens', 'Greens_r', 'Greys', 'Greys_r', 'OrRd', 'OrRd_r', 'Oranges', 'Oranges_r', 'PRGn', 'PRGn_r', 'Paired', 'Paired_r', 'Pastel1', 'Pastel1_r', 'Pastel2', 'Pastel2_r', 'PiYG', 'PiYG_r', 'PuBu', 'PuBuGn', 'PuBuGn_r', 'PuBu_r', 'PuOr', 'PuOr_r', 'PuRd', 'PuRd_r', 'Purples', 'Purples_r', 'RdBu', 'RdBu_r', 'RdGy', 'RdGy_r', 'RdPu', 'RdPu_r', 'RdYlBu', 'RdYlBu_r', 'RdYlGn', 'RdYlGn_r', 'Reds', 'Reds_r', 'Set1', 'Set1_r', 'Set2', 'Set2_r', 'Set3', 'Set3_r', 'Spectral', 'Spectral_r', 'Wistia', 'Wistia_r', 'YlGn', 'YlGnBu', 'YlGnBu_r', 'YlGn_r', 'YlOrBr', 'YlOrBr_r', 'YlOrRd', 'YlOrRd_r', 'afmhot', 'afmhot_r', 'autumn', 'autumn_r', 'binary', 'binary_r', 'bone', 'bone_r', 'brg', 'brg_r', 'bwr', 'bwr_r', 'cividis', 'cividis_r', 'cool', 'cool_r', 'coolwarm', 'coolwarm_r', 'copper', 'copper_r', 'crest', 'crest_r', 'cubehelix', 'cubehelix_r', 'flag', 'flag_r', 'flare', 'flare_r', 'gist_earth', 'gist_earth_r', 'gist_gray', 'gist_gray_r', 'gist_heat', 'gist_heat_r', 'gist_ncar', 'gist_ncar_r', 'gist_rainbow', 'gist_rainbow_r', 'gist_stern', 'gist_stern_r', 'gist_yarg', 'gist_yarg_r', 'gnuplot', 'gnuplot2', 'gnuplot2_r', 'gnuplot_r', 'gray', 'gray_r', 'hot', 'hot_r', 'hsv', 'hsv_r', 'icefire', 'icefire_r', 'inferno', 'inferno_r', 'jet', 'jet_r', 'magma', 'magma_r', 'mako', 'mako_r', 'nipy_spectral', 'nipy_spectral_r', 'ocean', 'ocean_r', 'pink', 'pink_r', 'plasma', 'plasma_r', 'prism', 'prism_r', 'rainbow', 'rainbow_r', 'rocket', 'rocket_r', 'seismic', 'seismic_r', 'spring', 'spring_r', 'summer', 'summer_r', 'tab10', 'tab10_r', 'tab20', 'tab20_r', 'tab20b', 'tab20b_r', 'tab20c', 'tab20c_r', 'terrain', 'terrain_r', 'turbo', 'turbo_r', 'twilight', 'twilight_r', 'twilight_shifted', 'twilight_shifted_r', 'viridis', 'viridis_r', 'vlag', 'vlag_r', 'winter', 'winter_r'",
      "\nDuring handling of the above exception, another exception occurred:\n",
      "\u001b[1;31mYellowbrickValueError\u001b[0m                     Traceback (most recent call last)",
      "\u001b[1;32m~\\AppData\\Local\\Temp\\ipykernel_22400\\1513887157.py\u001b[0m in \u001b[0;36m<module>\u001b[1;34m\u001b[0m\n\u001b[0;32m      1\u001b[0m \u001b[0mvisualizer\u001b[0m \u001b[1;33m=\u001b[0m \u001b[0mSilhouetteVisualizer\u001b[0m \u001b[1;33m(\u001b[0m\u001b[0mkmeans\u001b[0m\u001b[1;33m,\u001b[0m \u001b[0mcolors\u001b[0m\u001b[1;33m=\u001b[0m\u001b[1;34m'yeloowbrick'\u001b[0m\u001b[1;33m)\u001b[0m\u001b[1;33m\u001b[0m\u001b[1;33m\u001b[0m\u001b[0m\n\u001b[1;32m----> 2\u001b[1;33m \u001b[0mvisualizer\u001b[0m\u001b[1;33m.\u001b[0m\u001b[0mfit\u001b[0m\u001b[1;33m(\u001b[0m \u001b[0mX\u001b[0m \u001b[1;33m)\u001b[0m\u001b[1;33m\u001b[0m\u001b[1;33m\u001b[0m\u001b[0m\n\u001b[0m\u001b[0;32m      3\u001b[0m \u001b[0mvisualizer\u001b[0m\u001b[1;33m.\u001b[0m\u001b[0mfinalize\u001b[0m\u001b[1;33m(\u001b[0m\u001b[1;33m)\u001b[0m\u001b[1;33m\u001b[0m\u001b[1;33m\u001b[0m\u001b[0m\n",
      "\u001b[1;32m~\\.conda\\envs\\DataScienceEmProducao\\lib\\site-packages\\yellowbrick\\cluster\\silhouette.py\u001b[0m in \u001b[0;36mfit\u001b[1;34m(self, X, y, **kwargs)\u001b[0m\n\u001b[0;32m    148\u001b[0m \u001b[1;33m\u001b[0m\u001b[0m\n\u001b[0;32m    149\u001b[0m         \u001b[1;31m# Draw the silhouette figure\u001b[0m\u001b[1;33m\u001b[0m\u001b[1;33m\u001b[0m\u001b[1;33m\u001b[0m\u001b[0m\n\u001b[1;32m--> 150\u001b[1;33m         \u001b[0mself\u001b[0m\u001b[1;33m.\u001b[0m\u001b[0mdraw\u001b[0m\u001b[1;33m(\u001b[0m\u001b[0mlabels\u001b[0m\u001b[1;33m)\u001b[0m\u001b[1;33m\u001b[0m\u001b[1;33m\u001b[0m\u001b[0m\n\u001b[0m\u001b[0;32m    151\u001b[0m \u001b[1;33m\u001b[0m\u001b[0m\n\u001b[0;32m    152\u001b[0m         \u001b[1;31m# Return the estimator\u001b[0m\u001b[1;33m\u001b[0m\u001b[1;33m\u001b[0m\u001b[1;33m\u001b[0m\u001b[0m\n",
      "\u001b[1;32m~\\.conda\\envs\\DataScienceEmProducao\\lib\\site-packages\\yellowbrick\\cluster\\silhouette.py\u001b[0m in \u001b[0;36mdraw\u001b[1;34m(self, labels)\u001b[0m\n\u001b[0;32m    179\u001b[0m             \u001b[0mcolor_kwargs\u001b[0m\u001b[1;33m[\u001b[0m\u001b[1;34m\"colors\"\u001b[0m\u001b[1;33m]\u001b[0m \u001b[1;33m=\u001b[0m \u001b[0mself\u001b[0m\u001b[1;33m.\u001b[0m\u001b[0mcolors\u001b[0m\u001b[1;33m\u001b[0m\u001b[1;33m\u001b[0m\u001b[0m\n\u001b[0;32m    180\u001b[0m \u001b[1;33m\u001b[0m\u001b[0m\n\u001b[1;32m--> 181\u001b[1;33m         \u001b[0mcolors\u001b[0m \u001b[1;33m=\u001b[0m \u001b[0mresolve_colors\u001b[0m\u001b[1;33m(\u001b[0m\u001b[1;33m**\u001b[0m\u001b[0mcolor_kwargs\u001b[0m\u001b[1;33m)\u001b[0m\u001b[1;33m\u001b[0m\u001b[1;33m\u001b[0m\u001b[0m\n\u001b[0m\u001b[0;32m    182\u001b[0m \u001b[1;33m\u001b[0m\u001b[0m\n\u001b[0;32m    183\u001b[0m         \u001b[1;31m# For each cluster, plot the silhouette scores\u001b[0m\u001b[1;33m\u001b[0m\u001b[1;33m\u001b[0m\u001b[1;33m\u001b[0m\u001b[0m\n",
      "\u001b[1;32m~\\.conda\\envs\\DataScienceEmProducao\\lib\\site-packages\\yellowbrick\\style\\colors.py\u001b[0m in \u001b[0;36mresolve_colors\u001b[1;34m(n_colors, colormap, colors)\u001b[0m\n\u001b[0;32m    113\u001b[0m             \u001b[1;32mexcept\u001b[0m \u001b[0mValueError\u001b[0m \u001b[1;32mas\u001b[0m \u001b[0me\u001b[0m\u001b[1;33m:\u001b[0m\u001b[1;33m\u001b[0m\u001b[1;33m\u001b[0m\u001b[0m\n\u001b[0;32m    114\u001b[0m \u001b[1;33m\u001b[0m\u001b[0m\n\u001b[1;32m--> 115\u001b[1;33m                 \u001b[1;32mraise\u001b[0m \u001b[0mYellowbrickValueError\u001b[0m\u001b[1;33m(\u001b[0m\u001b[0me\u001b[0m\u001b[1;33m)\u001b[0m\u001b[1;33m\u001b[0m\u001b[1;33m\u001b[0m\u001b[0m\n\u001b[0m\u001b[0;32m    116\u001b[0m \u001b[1;33m\u001b[0m\u001b[0m\n\u001b[0;32m    117\u001b[0m         \u001b[1;31m# if yellowbrick color palette is provided as colormap\u001b[0m\u001b[1;33m\u001b[0m\u001b[1;33m\u001b[0m\u001b[1;33m\u001b[0m\u001b[0m\n",
      "\u001b[1;31mYellowbrickValueError\u001b[0m: 'yeloowbrick' is not a valid value for name; supported values are 'Accent', 'Accent_r', 'Blues', 'Blues_r', 'BrBG', 'BrBG_r', 'BuGn', 'BuGn_r', 'BuPu', 'BuPu_r', 'CMRmap', 'CMRmap_r', 'Dark2', 'Dark2_r', 'GnBu', 'GnBu_r', 'Greens', 'Greens_r', 'Greys', 'Greys_r', 'OrRd', 'OrRd_r', 'Oranges', 'Oranges_r', 'PRGn', 'PRGn_r', 'Paired', 'Paired_r', 'Pastel1', 'Pastel1_r', 'Pastel2', 'Pastel2_r', 'PiYG', 'PiYG_r', 'PuBu', 'PuBuGn', 'PuBuGn_r', 'PuBu_r', 'PuOr', 'PuOr_r', 'PuRd', 'PuRd_r', 'Purples', 'Purples_r', 'RdBu', 'RdBu_r', 'RdGy', 'RdGy_r', 'RdPu', 'RdPu_r', 'RdYlBu', 'RdYlBu_r', 'RdYlGn', 'RdYlGn_r', 'Reds', 'Reds_r', 'Set1', 'Set1_r', 'Set2', 'Set2_r', 'Set3', 'Set3_r', 'Spectral', 'Spectral_r', 'Wistia', 'Wistia_r', 'YlGn', 'YlGnBu', 'YlGnBu_r', 'YlGn_r', 'YlOrBr', 'YlOrBr_r', 'YlOrRd', 'YlOrRd_r', 'afmhot', 'afmhot_r', 'autumn', 'autumn_r', 'binary', 'binary_r', 'bone', 'bone_r', 'brg', 'brg_r', 'bwr', 'bwr_r', 'cividis', 'cividis_r', 'cool', 'cool_r', 'coolwarm', 'coolwarm_r', 'copper', 'copper_r', 'crest', 'crest_r', 'cubehelix', 'cubehelix_r', 'flag', 'flag_r', 'flare', 'flare_r', 'gist_earth', 'gist_earth_r', 'gist_gray', 'gist_gray_r', 'gist_heat', 'gist_heat_r', 'gist_ncar', 'gist_ncar_r', 'gist_rainbow', 'gist_rainbow_r', 'gist_stern', 'gist_stern_r', 'gist_yarg', 'gist_yarg_r', 'gnuplot', 'gnuplot2', 'gnuplot2_r', 'gnuplot_r', 'gray', 'gray_r', 'hot', 'hot_r', 'hsv', 'hsv_r', 'icefire', 'icefire_r', 'inferno', 'inferno_r', 'jet', 'jet_r', 'magma', 'magma_r', 'mako', 'mako_r', 'nipy_spectral', 'nipy_spectral_r', 'ocean', 'ocean_r', 'pink', 'pink_r', 'plasma', 'plasma_r', 'prism', 'prism_r', 'rainbow', 'rainbow_r', 'rocket', 'rocket_r', 'seismic', 'seismic_r', 'spring', 'spring_r', 'summer', 'summer_r', 'tab10', 'tab10_r', 'tab20', 'tab20_r', 'tab20b', 'tab20b_r', 'tab20c', 'tab20c_r', 'terrain', 'terrain_r', 'turbo', 'turbo_r', 'twilight', 'twilight_r', 'twilight_shifted', 'twilight_shifted_r', 'viridis', 'viridis_r', 'vlag', 'vlag_r', 'winter', 'winter_r'"
     ]
    }
   ],
   "source": [
    "visualizer = SilhouetteVisualizer (kmeans, colors='yeloowbrick')\n",
    "visualizer.fit( X )\n",
    "visualizer.finalize()"
   ]
  },
  {
   "cell_type": "code",
   "execution_count": null,
   "id": "232aedb8",
   "metadata": {
    "ExecuteTime": {
     "end_time": "2022-11-28T00:10:03.625525Z",
     "start_time": "2022-11-28T00:10:03.625525Z"
    }
   },
   "outputs": [],
   "source": [
    "# fig = px.scatter_3d( df9, x='recency_days', y='invoice_no', z='gross_revenue', color='cluster')\n",
    "# fig.show()"
   ]
  },
  {
   "cell_type": "markdown",
   "id": "ed9848d3",
   "metadata": {},
   "source": [
    "## 9.2. 2d plot"
   ]
  },
  {
   "cell_type": "code",
   "execution_count": 180,
   "id": "c8fe22f4",
   "metadata": {
    "ExecuteTime": {
     "end_time": "2022-11-28T00:10:20.639451Z",
     "start_time": "2022-11-28T00:10:04.568001Z"
    }
   },
   "outputs": [
    {
     "data": {
      "text/plain": [
       "<seaborn.axisgrid.PairGrid at 0x2d662693e88>"
      ]
     },
     "execution_count": 180,
     "metadata": {},
     "output_type": "execute_result"
    },
    {
     "data": {
      "image/png": "[encoded data removed]",
      "text/plain": [
       "<Figure size 943.5x900 with 30 Axes>"
      ]
     },
     "metadata": {},
     "output_type": "display_data"
    }
   ],
   "source": [
    "df_viz = df9.drop( columns='customer_id', axis=1)\n",
    "sns.pairplot( df_viz, hue='cluster')"
   ]
  },
  {
   "cell_type": "markdown",
   "id": "34fd50eb",
   "metadata": {},
   "source": [
    "## 9.3. UMAP\n"
   ]
  },
  {
   "cell_type": "code",
   "execution_count": 181,
   "id": "279021c4",
   "metadata": {
    "ExecuteTime": {
     "end_time": "2022-11-28T00:10:32.464825Z",
     "start_time": "2022-11-28T00:10:20.642456Z"
    }
   },
   "outputs": [
    {
     "data": {
      "text/plain": [
       "<AxesSubplot:xlabel='embedding_x', ylabel='embedding_y'>"
      ]
     },
     "execution_count": 181,
     "metadata": {},
     "output_type": "execute_result"
    },
    {
     "data": {
      "image/png": "[encoded data removed]",
      "text/plain": [
       "<Figure size 576x396 with 1 Axes>"
      ]
     },
     "metadata": {},
     "output_type": "display_data"
    }
   ],
   "source": [
    "reducer = umap.UMAP( n_neighbors=40,random_state=42 )\n",
    "embedding = reducer.fit_transform( X )\n",
    "\n",
    "# embedding\n",
    "df_viz['embedding_x'] = embedding[:, 0]\n",
    "df_viz['embedding_y'] = embedding[:, 1]\n",
    "\n",
    "# plot UMAP\n",
    "sns.scatterplot( x='embedding_x', y='embedding_y', \n",
    "                 hue='cluster', \n",
    "                 palette=sns.color_palette( 'hls', n_colors=len( df_viz['cluster'].unique() ) ),\n",
    "                 data=df_viz )"
   ]
  },
  {
   "cell_type": "markdown",
   "id": "b33b3453",
   "metadata": {
    "heading_collapsed": true
   },
   "source": [
    "## 9.2. Cluster Profle"
   ]
  },
  {
   "cell_type": "code",
   "execution_count": 127,
   "id": "cdf6771a",
   "metadata": {
    "ExecuteTime": {
     "end_time": "2022-11-26T02:50:31.599324Z",
     "start_time": "2022-11-26T02:50:31.546325Z"
    },
    "hidden": true
   },
   "outputs": [
    {
     "data": {
      "text/html": [
       "<div>\n",
       "<style scoped>\n",
       "    .dataframe tbody tr th:only-of-type {\n",
       "        vertical-align: middle;\n",
       "    }\n",
       "\n",
       "    .dataframe tbody tr th {\n",
       "        vertical-align: top;\n",
       "    }\n",
       "\n",
       "    .dataframe thead th {\n",
       "        text-align: right;\n",
       "    }\n",
       "</style>\n",
       "<table border=\"1\" class=\"dataframe\">\n",
       "  <thead>\n",
       "    <tr style=\"text-align: right;\">\n",
       "      <th></th>\n",
       "      <th>cluster</th>\n",
       "      <th>customer_id</th>\n",
       "      <th>perc_customer</th>\n",
       "      <th>gross_revenue</th>\n",
       "      <th>recency_days</th>\n",
       "      <th>invoice_no</th>\n",
       "      <th>avg_ticket</th>\n",
       "    </tr>\n",
       "  </thead>\n",
       "  <tbody>\n",
       "    <tr>\n",
       "      <th>0</th>\n",
       "      <td>0</td>\n",
       "      <td>4071</td>\n",
       "      <td>93.115279</td>\n",
       "      <td>946.696250</td>\n",
       "      <td>96.969295</td>\n",
       "      <td>3.641120</td>\n",
       "      <td>25.359654</td>\n",
       "    </tr>\n",
       "    <tr>\n",
       "      <th>1</th>\n",
       "      <td>1</td>\n",
       "      <td>6</td>\n",
       "      <td>0.137237</td>\n",
       "      <td>182181.981667</td>\n",
       "      <td>7.166667</td>\n",
       "      <td>89.000000</td>\n",
       "      <td>253.626345</td>\n",
       "    </tr>\n",
       "    <tr>\n",
       "      <th>2</th>\n",
       "      <td>2</td>\n",
       "      <td>28</td>\n",
       "      <td>0.640439</td>\n",
       "      <td>42614.387143</td>\n",
       "      <td>6.178571</td>\n",
       "      <td>57.821429</td>\n",
       "      <td>162.862605</td>\n",
       "    </tr>\n",
       "    <tr>\n",
       "      <th>3</th>\n",
       "      <td>3</td>\n",
       "      <td>267</td>\n",
       "      <td>6.107045</td>\n",
       "      <td>8089.028652</td>\n",
       "      <td>20.280899</td>\n",
       "      <td>19.528090</td>\n",
       "      <td>62.783157</td>\n",
       "    </tr>\n",
       "  </tbody>\n",
       "</table>\n",
       "</div>"
      ],
      "text/plain": [
       "   cluster  customer_id  perc_customer  gross_revenue  recency_days  invoice_no  avg_ticket\n",
       "0        0         4071      93.115279     946.696250     96.969295    3.641120   25.359654\n",
       "1        1            6       0.137237  182181.981667      7.166667   89.000000  253.626345\n",
       "2        2           28       0.640439   42614.387143      6.178571   57.821429  162.862605\n",
       "3        3          267       6.107045    8089.028652     20.280899   19.528090   62.783157"
      ]
     },
     "execution_count": 127,
     "metadata": {},
     "output_type": "execute_result"
    }
   ],
   "source": [
    "# Number of customer \n",
    "df_cluster = df9[['customer_id', 'cluster']].groupby('cluster').count().reset_index()\n",
    "df_cluster['perc_customer'] = 100* (df_cluster['customer_id'] / df_cluster['customer_id'].sum())\n",
    "\n",
    "# Avg Gross revenue \n",
    "df_avg_gross_revenue = df9[['gross_revenue', 'cluster']].groupby( 'cluster').mean().reset_index()\n",
    "df_cluster = pd.merge( df_cluster, df_avg_gross_revenue, how='inner', on='cluster')\n",
    "\n",
    "# Avg recency days\n",
    "df_avg_gross_days = df9[['recency_days', 'cluster']].groupby( 'cluster').mean().reset_index()\n",
    "df_cluster = pd.merge( df_cluster, df_avg_gross_days, how='inner', on='cluster')\n",
    "\n",
    "# Avg invoice_no\n",
    "df_avg_gross_no = df9[['invoice_no', 'cluster']].groupby( 'cluster').mean().reset_index()\n",
    "df_cluster = pd.merge( df_cluster, df_avg_gross_no, how='inner', on='cluster')\n",
    "\n",
    "# Avg Ticket\n",
    "df_ticket = df9[['avg_ticket', 'cluster']].groupby( 'cluster').mean().reset_index()\n",
    "df_cluster = pd.merge( df_cluster, df_ticket, how='inner', on='cluster')\n",
    "\n",
    "\n",
    "df_cluster"
   ]
  },
  {
   "cell_type": "markdown",
   "id": "2b5234de",
   "metadata": {
    "heading_collapsed": true
   },
   "source": [
    "## Cluster 01: ( Candidato à Insider)\n",
    "    - Número de customers: 6 (0.14% do customers)\n",
    "    - Recência em média: 7 dias\n",
    "    - Compras em média: 89 compras\n",
    "    - Receita em média: 182.182,00 dólares\n",
    "    \n",
    "## Cluster 02:\n",
    "    - Número de customers: 31 (0.71% do customers)\n",
    "    - Recência em média: 14 dias\n",
    "    - Compras em média: 53 compras\n",
    "    - Receita em média: 40.543,00 dólares\n",
    "    \n",
    "## Cluster 03:\n",
    "    - Número de customers: 4.335 (99% do customers)\n",
    "    - Recência em média: 92 dias\n",
    "    - Compras em média: 5 compras\n",
    "    - Receita em média: 1.372,57 dólares\n",
    "    "
   ]
  },
  {
   "cell_type": "code",
   "execution_count": null,
   "id": "933f2ee0",
   "metadata": {
    "hidden": true
   },
   "outputs": [],
   "source": []
  },
  {
   "cell_type": "markdown",
   "id": "627d6be8",
   "metadata": {},
   "source": [
    "# <font color='red'> 10.0. Deploy to Production </font>"
   ]
  },
  {
   "cell_type": "code",
   "execution_count": null,
   "id": "cc02039d",
   "metadata": {},
   "outputs": [],
   "source": []
  }
 ],
 "metadata": {
  "kernelspec": {
   "display_name": "Python 3 (ipykernel)",
   "language": "python",
   "name": "python3"
  },
  "language_info": {
   "codemirror_mode": {
    "name": "ipython",
    "version": 3
   },
   "file_extension": ".py",
   "mimetype": "text/x-python",
   "name": "python",
   "nbconvert_exporter": "python",
   "pygments_lexer": "ipython3",
   "version": "3.10.8"
  }
 },
 "nbformat": 4,
 "nbformat_minor": 5
}
